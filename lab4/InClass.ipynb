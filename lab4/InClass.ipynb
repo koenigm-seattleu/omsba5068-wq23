{
 "cells": [
  {
   "cell_type": "markdown",
   "metadata": {},
   "source": [
    "#### Constraint Processing\n",
    "\n",
    "\n",
    "\n",
    "Python Constraint library:\n",
    "\n",
    "* https://pypi.org/project/python-constraint/   (some examples, installation instructions are wrong!)\n",
    "* https://anaconda.org/conda-forge/python-constraint  (installation instructions using Anaconda)"
   ]
  },
  {
   "cell_type": "code",
   "execution_count": null,
   "metadata": {},
   "outputs": [],
   "source": [
    "from constraint import *"
   ]
  },
  {
   "cell_type": "code",
   "execution_count": null,
   "metadata": {},
   "outputs": [],
   "source": [
    "p = Problem()\n",
    "p.addVariables([\"N1\", \"N2\"], [\"Red\", \"Blue\"])\n",
    "p.addConstraint(lambda a, b: a != b, [\"N1\", \"N2\"])\n",
    "print(p.getSolutions())"
   ]
  },
  {
   "cell_type": "markdown",
   "metadata": {},
   "source": [
    "-------------------"
   ]
  },
  {
   "cell_type": "markdown",
   "metadata": {},
   "source": [
    "Look at the trickiest piece of using the library:  adding a constraint\n",
    "\n",
    "```\n",
    "# Example defining a constraint using a named function\n",
    "\n",
    "def neq(x,y):\n",
    "    return x != y\n",
    "    \n",
    "p.addConstraint(neq, [\"N1\", \"N2\"])\n",
    "```\n",
    "\n",
    "![Library example](libraryExample.GIF)"
   ]
  },
  {
   "cell_type": "code",
   "execution_count": null,
   "metadata": {},
   "outputs": [],
   "source": [
    "### First example from the python-constraint documentation\n",
    "\n",
    "from constraint import *\n",
    "\n",
    "problem = Problem()\n",
    "\n",
    "problem.addVariable(\"a\", [1,2,3])\n",
    "problem.addVariable(\"b\", [4,5,6])\n",
    "print(problem.getSolutions())\n",
    "\n",
    "print(\"\\nAdding numeric constraint, should see fewer solutions\\n\")\n",
    "\n",
    "problem.addConstraint(lambda a, b: a*2 == b, (\"a\", \"b\"))\n",
    "print(problem.getSolutions())\n"
   ]
  },
  {
   "cell_type": "markdown",
   "metadata": {},
   "source": [
    "-------"
   ]
  },
  {
   "cell_type": "markdown",
   "metadata": {},
   "source": [
    "#### Course to Professor Assignment\n",
    "\n",
    "The classes are\n",
    "\n",
    "  * Class 1 - Intro to Programming: \t    meets from 8:00-9:00am \n",
    "  * Class 2 - Intro to Artificial Intelligence: \tmeets from 8:30-9:30am\n",
    "  * Class 3 - Natural Language Processing: \tmeets from 9:00-10:00am\n",
    "  * Class 4 - Computer Vision: \t\tmeets from 9:00-10:00am \n",
    "  * Class 5 - Machine Learning: \t\tmeets from 9:30-10:30am \n",
    "  \n",
    "The professors are\n",
    "\n",
    "  * Professor A, who is qualified to teach \tClasses 3 and 4\n",
    "  * Professor B, who is qualified to teach \tClasses 2, 3, 4, and 5\n",
    "  * Professor C, who is qualified to teach \tClasses 1, 2, 3, 4, 5\n",
    "\n",
    "Use the constraints library to generate an assignment of professors to courses"
   ]
  },
  {
   "cell_type": "code",
   "execution_count": null,
   "metadata": {},
   "outputs": [],
   "source": [
    "courses = [\"C1\", \"C2\", \"C3\", \"C4\", \"C5\"]\n",
    "\n",
    "canTeach = {\"ProfA\": [\"C3\", \"C4\"],\n",
    "            \"ProfB\": [\"C2\", \"C3\", \"C4\", \"C5\"],\n",
    "            \"ProfC\": [\"C1\", \"C2\", \"C3\", \"C4\", \"C5\"]}\n",
    "\n",
    "conflicts = {\"C1\": [\"C2\"],\n",
    "            \"C2\": [\"C1\", \"C3\", \"C4\"],\n",
    "            \"C3\": [\"C2\", \"C4\", \"C5\"],\n",
    "            \"C4\": [\"C2\", \"C3\", \"C5\"],\n",
    "            \"C5\": [\"C3\", \"C4\"]}"
   ]
  },
  {
   "cell_type": "code",
   "execution_count": null,
   "metadata": {},
   "outputs": [],
   "source": [
    "from constraint import *\n",
    "\n",
    "# Variables are courses;  domains are professors\n",
    "\n",
    "def scheduleCourses(courses, canTeach, conflicts):\n",
    "    \n",
    "    def profsFor(course):\n",
    "        return [p for p in canTeach.keys() if course in canTeach[p]]\n",
    "    \n",
    "    problem = Problem()\n",
    "    \n",
    "    for course in courses:\n",
    "        problem.addVariable(course, profsFor(course))\n",
    "    \n",
    "    for course in courses:\n",
    "        for conflictingCourse in conflicts[course]:\n",
    "            problem.addConstraint(lambda a, b: a != b, [course, conflictingCourse])\n",
    "            \n",
    "    return problem.getSolutions()\n"
   ]
  },
  {
   "cell_type": "code",
   "execution_count": null,
   "metadata": {},
   "outputs": [],
   "source": [
    "scheduleCourses(courses, canTeach, conflicts)"
   ]
  },
  {
   "cell_type": "markdown",
   "metadata": {},
   "source": [
    "---------------------------\n",
    "#### Semi Magic Square Example\n",
    "\n",
    "This is a really simple math puzzle, the semi-magic square.\n",
    "The point is to show an example with constraints other than not equals.\n",
    "\n",
    "The square is NxN, and every cell must have a value in the range (1, 2, ... N), and every row, column and diagonal must sum to (1 + 2 + ... + N).  In addition, initial values may be specified. For example, here is an example of a 3x3 square, constrained so [0,0] must be = 1.\n",
    "\n",
    "![SemiMagicSquareExample](semiMagicSquare.GIF)"
   ]
  },
  {
   "cell_type": "code",
   "execution_count": null,
   "metadata": {},
   "outputs": [],
   "source": [
    "from constraint import *\n",
    "\n",
    "def solveMagicSquare(size, initials):\n",
    "    problem = Problem()\n",
    "    domain = range(1, size+1)\n",
    "    total = sum(domain)\n",
    "    for i in range(0,size):\n",
    "        for j in range(0,size):\n",
    "            if (i,j) in initials:\n",
    "                problem.addVariable((i,j), [initials[(i,j)]])\n",
    "            else:\n",
    "                problem.addVariable((i,j), domain)\n",
    "    for i in range(0, size):\n",
    "        row = [(i, j) for j in range(0,size)]\n",
    "        problem.addConstraint(lambda *args: sum(args) == total, row)\n",
    "        col = [(j,i) for j in range(0,size)]\n",
    "        problem.addConstraint(lambda *args: sum(args) == total, col)\n",
    "    problem.addConstraint(lambda *args: sum(args) == total, [(i,i) for i in range(0,size)])\n",
    "    problem.addConstraint(lambda *args: sum(args) == total, [(i, size-i-1) for i in range(0,size)])\n",
    "    return problem.getSolutions() "
   ]
  },
  {
   "cell_type": "code",
   "execution_count": null,
   "metadata": {},
   "outputs": [],
   "source": [
    "squareSize = 3\n",
    "initials = {(0,0): 1}\n",
    "solveMagicSquare(squareSize, initials)"
   ]
  }
 ],
 "metadata": {
  "kernelspec": {
   "display_name": "Python 3 (ipykernel)",
   "language": "python",
   "name": "python3"
  },
  "language_info": {
   "codemirror_mode": {
    "name": "ipython",
    "version": 3
   },
   "file_extension": ".py",
   "mimetype": "text/x-python",
   "name": "python",
   "nbconvert_exporter": "python",
   "pygments_lexer": "ipython3",
   "version": "3.9.12"
  }
 },
 "nbformat": 4,
 "nbformat_minor": 2
}
