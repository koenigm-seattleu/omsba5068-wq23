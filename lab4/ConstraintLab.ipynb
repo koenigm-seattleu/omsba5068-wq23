{
 "cells": [
  {
   "cell_type": "markdown",
   "metadata": {},
   "source": [
    "### Constraint Satisfaction Lab\n",
    "\n",
    "<span style=\"color:red\">Your name here</span>\n",
    "\n",
    "Notice that you are delivering four functions, but your submitted notebook does not call the functions.  Please do \"Restart Kernel and Clear Output\" prior to submitting.  If I then \"Run All\" on your notebook, I should see *no* output.  I will put the code to run your functions at the end of the notebook when I grade it."
   ]
  },
  {
   "cell_type": "markdown",
   "metadata": {},
   "source": [
    "#### Map Coloring\n",
    "\n",
    "* There a N locations, each with a name\n",
    "* There are k colors\n",
    "* There is a set of adjacency relationships between the locations\n",
    "* The goal is to assign a color to each locations such that no two adjacent locations have the same color\n"
   ]
  },
  {
   "cell_type": "markdown",
   "metadata": {},
   "source": [
    "Use the constraint library to solve this problem:\n",
    "\n",
    "![test](mapColorWesternUS.GIF)\n",
    "\n",
    "Your solution should be in a function solveWesternStates(), and it should produce a single solution if one exists, delivered as a dictionary mapping a state name to its assigned color.  For example the picture above is a solution which would look like:\n",
    "```\n",
    "{'WA': 'green', 'OR': 'yellow', 'ID': 'red', 'CA': 'blue', 'NV', 'green', \n",
    " 'UT': 'blue', 'AZ': 'red', 'CO': 'yellow', 'NM': 'blue'}\n",
    "```\n",
    "Your function does not need to return that solution -- if there is more than one solution, your function may return any of them.  Your function should return ```None``` if there is no solution (but of course there is a solution because the diagram shows one!).  Still, add the code checking for no solutions, just to be tidy."
   ]
  },
  {
   "cell_type": "code",
   "execution_count": null,
   "metadata": {},
   "outputs": [],
   "source": [
    "colors = [\"green\", \"yellow\", \"blue\", \"red\"]"
   ]
  },
  {
   "cell_type": "code",
   "execution_count": null,
   "metadata": {},
   "outputs": [],
   "source": [
    "##  Your definition of the function ```solveWesternStates()``` in this cell.  Notice this is a function, your\n",
    "##  notebook should not call the function, just define it."
   ]
  },
  {
   "cell_type": "markdown",
   "metadata": {},
   "source": [
    "What is the minimum number of colors required to color this map?  Write a function ```westernStatesMinColors()``` that returns the minimum number of colors required to color the map."
   ]
  },
  {
   "cell_type": "code",
   "execution_count": null,
   "metadata": {},
   "outputs": [],
   "source": [
    "##  Your definition of the function ```westernStatesMinColors()``` in this cell.  Notice this is a function, your\n",
    "##  notebook should not call the function, just define it."
   ]
  },
  {
   "cell_type": "markdown",
   "metadata": {},
   "source": [
    "----------------------------------------------------------------------"
   ]
  },
  {
   "cell_type": "markdown",
   "metadata": {},
   "source": [
    "#### Simple Job-Shop Scheduling\n",
    "\n",
    "* Job 1 has two tasks:  polishing and drilling\n",
    "* Job 2 has two tasks: painting and drilling\n",
    "* Painting has to be done before drilling for any given part\n",
    "* Polishing and drilling can be done in either order\n",
    "* You cannot do two operations of the same job at the same time\n",
    "* Painting requires the painting machine and an attendant\n",
    "* Polishing requires the polishing machine and an attendant\n",
    "* There is only one attendant\n",
    "* If the shop starts at time 0 and each task takes 1 time unit, at what times should the tasks begin?\n",
    "\n",
    "Your function will be ```solveJobShop()``` which will return a dictionary with the times at which each task should be begun.  The tasks will be named ```'polishing1', 'drilling1', 'painting2' and 'drilling2'```.  Here is an example dictionary, just to illustrate the format of the solution.  It is not a valid solution so don't try to duplicate this output!\n",
    "```\n",
    "{'polishing1': 0,  'drilling1': 1, 'drilling2': 1, 'painting2': 2}\n",
    "```"
   ]
  },
  {
   "cell_type": "code",
   "execution_count": null,
   "metadata": {},
   "outputs": [],
   "source": [
    "##  Your definition of the function ```solveJobShop()``` in this cell.  Notice this is a function, your\n",
    "##  notebook should not call the function, just define it."
   ]
  },
  {
   "cell_type": "markdown",
   "metadata": {},
   "source": [
    "----------------------------------------------------------------------"
   ]
  },
  {
   "cell_type": "markdown",
   "metadata": {},
   "source": [
    "#### The Zoo in Killian Court\n",
    "\n",
    "(This is from an old MIT problem set.)\n",
    "\n",
    "MIT has decided to open a new zoo in Killian Court. They have obtained seven\n",
    "animals and built four enclosures. Because there are more animals than enclosures, some animals\n",
    "have to be in the same enclosures as others. However, the animals are very picky about who they live\n",
    "with. The MIT administration is having trouble assigning animals to enclosures, just as they often have\n",
    "trouble assigning students to residences. They have asked you to plan where\n",
    "each animal goes.\n",
    "\n",
    "The animals chosen are a LION, ANTELOPE, HYENA, EVIL LION, HORNBILL, MEERKAT, and BOAR.\n",
    "\n",
    "![Zoo](zoo.GIF)\n",
    "\n",
    "Each numbered area is a zoo enclosure. Multiple animals can go into the same enclosure, and not all\n",
    "enclosures have to be filled.\n",
    "\n",
    "Each animal has restrictions about where it can be placed.\n",
    "\n",
    "1. The LION and the EVIL LION hate each other, and do not want to be in the same enclosure.\n",
    "1. The MEERKAT and BOAR are best friends, and have to be in the same enclosure.\n",
    "1. The HYENA smells bad. Only the EVIL LION will share his enclosure.\n",
    "1. The EVIL LION wants to eat the MEERKAT, BOAR, and HORNBILL.\n",
    "1. The LION and the EVIL LION want to eat the ANTELOPE so badly that the ANTELOPE cannot be\n",
    "in either the same enclosure or in an enclosure adjacent to the LION or EVIL LION.\n",
    "1. The LION annoys the HORNBILL, so the HORNBILL doesn't want to be in the LION's enclosure.\n",
    "1. The LION is king, so he wants to be in enclosure 1.\n",
    "\n",
    "Write a function ```solveZoo()``` that produces a dictionary assigning animals to enclosures.  It should return just 1 solution, and None if no solution exists.  The animal names are defined below.  Enclosure numbers are 1, 2, 3, 4."
   ]
  },
  {
   "cell_type": "code",
   "execution_count": null,
   "metadata": {},
   "outputs": [],
   "source": [
    "animals = [\"Lion\", \"Antelope\", \"Hyena\", \"EvilLion\", \"Hornbill\", \"Meerkat\", \"Boar\"]"
   ]
  },
  {
   "cell_type": "code",
   "execution_count": null,
   "metadata": {},
   "outputs": [],
   "source": [
    "##  Your definition of the function ```solveZoo()``` in this cell.  Notice this is a function, your\n",
    "##  notebook should not call the function, just define it."
   ]
  }
 ],
 "metadata": {
  "kernelspec": {
   "display_name": "Python 3 (ipykernel)",
   "language": "python",
   "name": "python3"
  },
  "language_info": {
   "codemirror_mode": {
    "name": "ipython",
    "version": 3
   },
   "file_extension": ".py",
   "mimetype": "text/x-python",
   "name": "python",
   "nbconvert_exporter": "python",
   "pygments_lexer": "ipython3",
   "version": "3.9.12"
  }
 },
 "nbformat": 4,
 "nbformat_minor": 2
}
