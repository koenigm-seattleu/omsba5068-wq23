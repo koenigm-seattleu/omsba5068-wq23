{
 "cells": [
  {
   "cell_type": "markdown",
   "metadata": {},
   "source": [
    "**Counter**\n",
    "\n",
    "* A counter stores a single number, the count\n",
    "* You can add increment or decrement the counter, but you can't decrement its value past 0.\n",
    "\n",
    "* A counter problem is an initial value for the counter, and a goal value\n",
    "* The search is for a sequence of increment and decrement operations that move the counter value from the initial value to the goal value\n",
    "\n",
    "* No, there is nothing difficult about the problem!\n"
   ]
  },
  {
   "cell_type": "code",
   "execution_count": null,
   "metadata": {},
   "outputs": [],
   "source": [
    "from searchClientInterface import WorldState\n",
    "\n",
    "# The successor function needs to make a deep copy of itself\n",
    "import copy\n",
    "\n",
    "class CounterWorldState(WorldState):\n",
    "\n",
    "    # Internal state is just the 'value' attribute\n",
    "    def __init__(self, initial):\n",
    "        self._value = initial\n",
    "    \n",
    "    # Convenience function to make counter objects print nicely\n",
    "    # when they appear in search diagnostic messages\n",
    "    def __str__(self):\n",
    "        return \"{\" + str(self._value) + \"}\"\n",
    "    \n",
    "    #  These two methods are REQUIRED to make cycle checking work in the search\n",
    "    #  Notice they depend on the object's internal state, so they must\n",
    "    #  be customized to each new kind of WorldState\n",
    "    \n",
    "    def __eq__(self, other):\n",
    "        if isinstance(other, CounterWorldState):\n",
    "            return self._value == other._value\n",
    "        else:\n",
    "            return False\n",
    "\n",
    "    def __hash__(self):\n",
    "        return hash(str(self._value))\n",
    "    \n",
    "    # NB: every successor state must deep copy the old state!\n",
    "    \n",
    "    def successors(self):\n",
    "        candidates = [self.increment(), self.decrement()]\n",
    "        return [c for c in candidates if c] \n",
    "    \n",
    "    # One next state generator for each possible action.\n",
    "    # The return value is (newstate, action) or None if the \n",
    "    # action cannot be applied in the state\n",
    "    \n",
    "    def decrement(self):\n",
    "        if self._value > 0:\n",
    "            s = copy.deepcopy(self)\n",
    "            s._value = s._value - 1\n",
    "            return((s, \"decrement\"))\n",
    "        else:\n",
    "            return None\n",
    "                   \n",
    "    def increment(self):\n",
    "        s = copy.deepcopy(self)\n",
    "        s._value = s._value + 1\n",
    "        return((s, \"increment\"))\n",
    "    "
   ]
  },
  {
   "cell_type": "code",
   "execution_count": null,
   "metadata": {},
   "outputs": [],
   "source": [
    "from searchClientInterface import Problem\n",
    "\n",
    "# This class describes a problem by implementing initial() and\n",
    "# isGoal(state)\n",
    "\n",
    "class CounterProblem(Problem):\n",
    "    def __init__(self, initial_value, goal_value):\n",
    "        self._state = CounterWorldState(initial_value)\n",
    "        self._goal_value = goal_value\n",
    "        \n",
    "    def initial(self):\n",
    "        return self._state\n",
    "    \n",
    "    def isGoal(self, state):\n",
    "        return state._value == self._goal_value"
   ]
  },
  {
   "cell_type": "code",
   "execution_count": null,
   "metadata": {},
   "outputs": [],
   "source": [
    "from searchClientInterface import BFSEvaluator\n",
    "from searchFramework import aStarSearch\n",
    "\n",
    "problem1 = CounterProblem(3, 6)\n",
    "print(aStarSearch(problem1, BFSEvaluator()))"
   ]
  },
  {
   "cell_type": "code",
   "execution_count": null,
   "metadata": {},
   "outputs": [],
   "source": [
    "# Try BFS on another problem;  add verbosity and a limit\n",
    "\n",
    "print(aStarSearch(CounterProblem(7, 2), BFSEvaluator(),10, 20))"
   ]
  },
  {
   "cell_type": "code",
   "execution_count": null,
   "metadata": {},
   "outputs": [],
   "source": [
    "# Try DFS on the first problem\n",
    "from searchClientInterface import DFSEvaluator\n",
    "print(aStarSearch(problem1, DFSEvaluator()))"
   ]
  },
  {
   "cell_type": "code",
   "execution_count": null,
   "metadata": {},
   "outputs": [],
   "source": [
    "# DFS on the second problem (decrement)\n",
    "print(aStarSearch(CounterProblem(7, 2), DFSEvaluator(), 250, 1000))"
   ]
  },
  {
   "cell_type": "code",
   "execution_count": null,
   "metadata": {},
   "outputs": [],
   "source": [
    "# Here is real A* search with our heuristic evaluation being the distance\n",
    "# between the current state and the goal value\n",
    "\n",
    "from searchClientInterface import Evaluator\n",
    "\n",
    "# Set up the problem\n",
    "initial = 7\n",
    "goal = 2\n",
    "problem2 = CounterProblem(initial,goal)\n",
    "\n",
    "# Define our A* evaluator\n",
    "def coster(actions):\n",
    "    return len(actions)\n",
    "def estimator(state):\n",
    "    return abs(state._value - goal)\n",
    "\n",
    "# Run the search\n",
    "evaluator = Evaluator(coster, estimator)\n",
    "(solution, stats) = aStarSearch(problem2, evaluator, 250, 1000)\n",
    "print(solution)\n",
    "print(stats)\n",
    "(solution, stats) = aStarSearch(problem2, BFSEvaluator(), 250, 1000)\n",
    "print(solution)\n",
    "print(stats)"
   ]
  },
  {
   "cell_type": "code",
   "execution_count": null,
   "metadata": {},
   "outputs": [],
   "source": []
  }
 ],
 "metadata": {
  "kernelspec": {
   "display_name": "Python 3 (ipykernel)",
   "language": "python",
   "name": "python3"
  },
  "language_info": {
   "codemirror_mode": {
    "name": "ipython",
    "version": 3
   },
   "file_extension": ".py",
   "mimetype": "text/x-python",
   "name": "python",
   "nbconvert_exporter": "python",
   "pygments_lexer": "ipython3",
   "version": "3.9.12"
  }
 },
 "nbformat": 4,
 "nbformat_minor": 2
}
