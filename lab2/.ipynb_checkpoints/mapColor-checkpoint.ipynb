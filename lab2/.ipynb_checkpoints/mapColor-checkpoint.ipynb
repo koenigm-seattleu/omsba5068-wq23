{
 "cells": [
  {
   "cell_type": "markdown",
   "metadata": {},
   "source": [
    "##### Graph Coloring\n",
    "\n",
    "* There a N locations, each with a name\n",
    "* There are k colors\n",
    "* There is a set of adjacency relationships between the locations\n",
    "* The goal is to assign a color to each locations such that no two adjacent locations have the same color\n"
   ]
  },
  {
   "cell_type": "markdown",
   "metadata": {},
   "source": [
    "```\n",
    "#  Here is the example from Russel and Norvig AI Textbook, Figure 6.1\n",
    "locations = ['WA', 'NT', 'Q', 'SA', 'NSW', 'V', 'T']\n",
    "colors = [\"red\", \"green\", \"blue\"]\n",
    "adjacencies = [('WA', 'NT'), ('WA', 'SA'), ('NT', 'SA'), ('NT', 'Q'), \n",
    "               ('SA', 'Q'), ('Q', 'NSW'), ('SA', 'NSW'), ('SA', 'V'),\n",
    "               ('NSW', 'V')]\n",
    "\n",
    "\n",
    "def mapColor(locations, colors, adjacencies):\n",
    "    soln, stats = aStarSearch(GCProblem(locations, colors, adjacencies), dfsEvaluator(), None, 50000)\n",
    "    return soln\n",
    "    \n",
    "print(mapColor(locations, colors, adjacencies))\n",
    "[('WA', 'red'),\n",
    " ('NT', 'green'),\n",
    " ('Q', 'red'),\n",
    " ('SA', 'blue'),\n",
    " ('NSW', 'green'),\n",
    " ('V', 'red'),\n",
    " ('T', 'red')]\n",
    " \n",
    "```\n"
   ]
  },
  {
   "cell_type": "code",
   "execution_count": null,
   "metadata": {},
   "outputs": [],
   "source": [
    "####  Your code for all class definitions and the mapColor function in this cell"
   ]
  },
  {
   "cell_type": "markdown",
   "metadata": {},
   "source": [
    "Use your code to solve this problem:\n",
    "\n",
    "![test](mapColorWesternUS.GIF)\n",
    "\n",
    "Your solution should be in a function solveWesternStates()"
   ]
  },
  {
   "cell_type": "code",
   "execution_count": null,
   "metadata": {},
   "outputs": [],
   "source": [
    "### Write the function definition for solveWesternStates() here.  \n",
    "### But in the handed in version you only define the function, you do not run it."
   ]
  }
 ],
 "metadata": {
  "kernelspec": {
   "display_name": "Python 3 (ipykernel)",
   "language": "python",
   "name": "python3"
  },
  "language_info": {
   "codemirror_mode": {
    "name": "ipython",
    "version": 3
   },
   "file_extension": ".py",
   "mimetype": "text/x-python",
   "name": "python",
   "nbconvert_exporter": "python",
   "pygments_lexer": "ipython3",
   "version": "3.9.12"
  }
 },
 "nbformat": 4,
 "nbformat_minor": 2
}
