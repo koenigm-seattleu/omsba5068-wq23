{
 "cells": [
  {
   "cell_type": "code",
   "execution_count": null,
   "metadata": {},
   "outputs": [],
   "source": [
    "from pyDatalog import pyDatalog\n",
    "\n",
    "pyDatalog.create_terms('X,Y,Z, manager, indirect_manager')\n",
    "\n",
    "indirect_manager(X,Y) <=  manager(X,Y)\n",
    "indirect_manager(X,Y) <= manager(X,Z) & indirect_manager(Z,Y)\n"
   ]
  },
  {
   "cell_type": "code",
   "execution_count": null,
   "metadata": {},
   "outputs": [],
   "source": [
    "+manager('John', 'Mary')\n",
    "+manager('Mary', 'Jerry')"
   ]
  },
  {
   "cell_type": "code",
   "execution_count": null,
   "metadata": {},
   "outputs": [],
   "source": [
    "t = manager(X, Y)\n",
    "type(t)\n",
    "for q in t:\n",
    "    print(q)"
   ]
  },
  {
   "cell_type": "code",
   "execution_count": null,
   "metadata": {},
   "outputs": [],
   "source": [
    "indirect_manager(X, Y)"
   ]
  },
  {
   "cell_type": "code",
   "execution_count": null,
   "metadata": {},
   "outputs": [],
   "source": [
    "from pyDatalog import pyDatalog\n",
    "pyDatalog.create_terms('square, adjacent, R1, C1, R2, C2, R, C')\n",
    "\n",
    "for i in range(1,4):\n",
    "    for j in range(1,4):\n",
    "        +square(i,j)"
   ]
  },
  {
   "cell_type": "code",
   "execution_count": null,
   "metadata": {},
   "outputs": [],
   "source": [
    "adjacent(R1, C1, R2, C2 ) <= square(R1, C1) & square(R2, C2) & (R1 == R2 + 1) & (C1 == C2)\n",
    "adjacent(R1, C1, R2, C2 ) <= square(R1, C1) & square(R2, C2) & (R1 == R2 - 1) & (C1 == C2)\n",
    "adjacent(R1, C1, R2, C2 ) <= square(R1, C1) & square(R2, C2) & (C1 == C2 + 1) & (R1 == R2)\n",
    "adjacent(R1, C1, R2, C2 ) <= square(R1, C1) & square(R2, C2) & (C1 == C2 - 1) & (R1 == R2)"
   ]
  },
  {
   "cell_type": "code",
   "execution_count": null,
   "metadata": {},
   "outputs": [],
   "source": [
    "adjacent(2,2,R1, R2)"
   ]
  },
  {
   "cell_type": "markdown",
   "metadata": {},
   "source": [
    "```\n",
    "Criminal(x1) <- American(x1), Weapon(y1), Sells(x1,y1,z1), Hostile(z1)\n",
    "Sells(West,x2,Nono) <- Missile(x2), Owns(Nono,x2)\n",
    "Weapon(x3) <- Missile(x3)\n",
    "Hostile(x4, America) <- Enemy(x4, America)\n",
    "Owns(Nono, M1)\n",
    "Missile(M1)\n",
    "American(West)\n",
    "Enemy(Nono,America)\n",
    "Query / To Prove:  Criminal(West)\n",
    "```"
   ]
  },
  {
   "cell_type": "code",
   "execution_count": 10,
   "metadata": {},
   "outputs": [],
   "source": [
    "from pyDatalog import pyDatalog\n",
    "from pyDatalog.pyDatalog import assert_fact, retract_fact, ask, create_terms\n",
    "\n",
    "pyDatalog.clear()\n",
    "pyDatalog.create_terms('criminal, american, weapon, sells, hostile, owns, missile, enemy')\n",
    "pyDatalog.create_terms('X, Y, Z')\n",
    "pyDatalog.create_terms('nothing')\n",
    "\n",
    "criminal(X) <= american(X) & weapon(Y) & sells(X,Y,Z) & hostile(Z, 'America') & nothing(X)\n",
    "sells('West', X, 'Nono') <= missile(X) & owns('Nono', X)\n",
    "weapon(X) <= missile(X)\n",
    "hostile(X, 'America') <= enemy(X, 'America')\n",
    "+owns('Nono', 'M1')\n",
    "+missile('M1')\n",
    "+american('West')\n",
    "+enemy('Nono', 'America')\n",
    "+nothing('foo')\n"
   ]
  },
  {
   "cell_type": "code",
   "execution_count": 11,
   "metadata": {},
   "outputs": [
    {
     "data": {
      "text/plain": [
       "[]"
      ]
     },
     "execution_count": 11,
     "metadata": {},
     "output_type": "execute_result"
    }
   ],
   "source": [
    "criminal(X)"
   ]
  },
  {
   "cell_type": "code",
   "execution_count": null,
   "metadata": {},
   "outputs": [],
   "source": [
    "pyDatalog.create_terms('happy, healthy, wealthy, wise')\n",
    "pyDatalog.create_terms('X')\n",
    "\n",
    "happy(X) <= healthy(X), wealthy(X)\n",
    "happy(X) <= wise(X)\n",
    "+happy('Fred')\n",
    "+healthy('Fred')\n",
    "+wise('Fred')\n"
   ]
  },
  {
   "cell_type": "code",
   "execution_count": null,
   "metadata": {},
   "outputs": [],
   "source": [
    "pyDatalog.ask('happy(X)').answers"
   ]
  },
  {
   "cell_type": "markdown",
   "metadata": {},
   "source": [
    "### Sucky Policy\n",
    "\n",
    "Agent takes care of macro actions and paths, and depleted battery\n",
    "First try only one piece of gold\n",
    "\n",
    "Best Move:\n",
    "*  SUCK if at (r,c) and dirt at (r,c)\n",
    "*  UNLOAD if at (1,1) and have gold\n",
    "*  GOTO (1,1) if have gold\n",
    "*  MINE if at (r,c) and gold at (r,c)\n",
    "*  GOTO (r,c) gold at (r,c)\n",
    "\n"
   ]
  },
  {
   "cell_type": "code",
   "execution_count": null,
   "metadata": {},
   "outputs": [],
   "source": [
    "from constants import ACTION_SUCK\n",
    "create_terms('best_action', 'S', 'T')\n",
    "best_action(ACTION_SUCK) <= location(S) and square_state((S, T)) and (T == DIRT)"
   ]
  },
  {
   "cell_type": "code",
   "execution_count": null,
   "metadata": {},
   "outputs": [],
   "source": [
    "##  Build recon for a world\n",
    "from constants import EAST\n",
    "\n",
    "recon = {\n",
    "    'height': 5,\n",
    "    'width': 5,\n",
    "    'position': (1,1),\n",
    "    'heading': EAST,\n",
    "    'gold': [(3,3)],\n",
    "    'walls': [(0,0), (0,1), (0,2), (0,3), (0,4),\n",
    "             (1,0), (1,4),\n",
    "             (2,0), (2,4),\n",
    "             (3,0), (3,4),\n",
    "             (4,0), (4,1), (4,2), (4,3), (4,4),\n",
    "             (2,2), (3,1)],\n",
    "    'dirt': [(1,2)]\n",
    "}"
   ]
  },
  {
   "cell_type": "code",
   "execution_count": null,
   "metadata": {},
   "outputs": [],
   "source": [
    "from agents.agentworldmodel import AgentWorldModel\n",
    "awm = AgentWorldModel()\n",
    "awm.tell_recon(recon)"
   ]
  },
  {
   "cell_type": "code",
   "execution_count": null,
   "metadata": {},
   "outputs": [],
   "source": [
    "awm.ask_free_squares()"
   ]
  },
  {
   "cell_type": "markdown",
   "metadata": {},
   "source": [
    "\n",
    "\n",
    "\n",
    "World Model in Datalog\n",
    "tell_percepts(dirt, bump) <= tell_percept_dirt(Dirt) and tell_percept_bump(Bump)\n",
    "tell_recon()\n",
    "tell_percepts()\n",
    "tell_action()\n",
    "ask_next_action()\n",
    "\n",
    "predicates:\n",
    "current_location(R,C)\n",
    "square_state(R,C,state)\n",
    "num_gold\n"
   ]
  },
  {
   "cell_type": "code",
   "execution_count": null,
   "metadata": {},
   "outputs": [],
   "source": [
    "from pyDatalog import pyDatalog\n",
    "from pyDatalog.pyDatalog import assert_fact, retract_fact, ask, create_terms, clear"
   ]
  },
  {
   "cell_type": "code",
   "execution_count": null,
   "metadata": {},
   "outputs": [],
   "source": [
    "def replace(pred, newval):\n",
    "    ans = pyDatalog.ask(f\"{pred}(_)\")\n",
    "    if ans != None and len(ans.answers) > 0:\n",
    "        oldval = ans.answers[0]\n",
    "        retract_fact(pred, oldval)\n",
    "    assert_fact(pred, newval)\n",
    "\n",
    "def ask_pred(pred):\n",
    "    return ask(f\"{pred}(_)\").answers[0][0]\n",
    "\n",
    "def ask_square_state(sq):\n",
    "    a = ask(f\"square_state(({sq}, _))\")\n",
    "    if a == None:\n",
    "        return None\n",
    "    else:\n",
    "        return a.answers[0][0]"
   ]
  },
  {
   "cell_type": "code",
   "execution_count": null,
   "metadata": {},
   "outputs": [],
   "source": [
    "from constants import WALL, GOLD, DIRT, CLEAN\n",
    "from constants import ACTION_FORWARD, ACTION_TURN_LEFT, ACTION_TURN_RIGHT, ACTION_MINE_GOLD, ACTION_UNLOAD_GOLD\n",
    "\n",
    "create_terms('location, heading, square_state, num_gold, last_action')\n",
    "\n",
    "def init_world_model():\n",
    "    clear()\n",
    "    assert_fact('num_gold', 0)\n",
    "    assert_fact('last_action', None)\n",
    "            \n",
    "def tell_recon(recon):\n",
    "    assert_fact('location', recon['position'])\n",
    "    assert_fact('heading', recon['heading'])\n",
    "    if 'walls' in recon:\n",
    "        for square in recon['walls']:\n",
    "            assert_fact('square_state', (square, \"wall\"))\n",
    "    if 'gold' in recon:\n",
    "        for square in recon['gold']:\n",
    "            assert_fact('square_state', (square, \"gold\"))\n",
    "    \n",
    "def tell_last_action(action):\n",
    "    assert_fact('last_action', action)\n",
    "        \n",
    "def tell_percepts(self, percepts):\n",
    "    dirt = percepts.attributes['dirt']\n",
    "    bump = percepts.attributes['bump']\n",
    "    last_action = ask_pred('last_action')\n",
    "    location = ask_pred('location')\n",
    "    heading = ask_pred('heading')\n",
    "    num_gold = ask_pred('num_gold')\n",
    "    if last_action == ACTION_FORWARD and bump:\n",
    "        assert_fact('square_state', (square_at_heading(location, heading), WALL))\n",
    "    elif last_action == ACTION_FORWARD and not bump:\n",
    "        newsquare = square_at_heading(location, heading)\n",
    "        assert_fact('location', newsquare)\n",
    "        assert_fact('square_state', (newsquare, DIRT if dirt else CLEAN))\n",
    "    elif last_action == ACTION_TURN_LEFT:\n",
    "        assert_fact('heading', heading_in_direction(heading, LEFT))\n",
    "    elif last_action == ACTION_TURN_RIGHT:\n",
    "        assert_fact('heading', heading_in_direction(heading, RIGHT))\n",
    "    elif last_action == ACTION_MINE_GOLD and ask_square_state(location) == GOLD:\n",
    "        assert_fact('square_state', (location, CLEAN))\n",
    "        assert_fact('num_gold', num_gold+1)\n",
    "    elif last_action == ACTION_UNLOAD_GOLD and location == (1,1):\n",
    "        assert_fact('num_gold', num_gold-1)\n",
    "    # For first step, last_action is None but want to set DIRT anyway\n",
    "    if dirt:\n",
    "        assert_fact('square_state', (location, DIRT))\n",
    "    else:\n",
    "        if self.ask_state_at(location) == UNKNOWN:\n",
    "            assert_fact('square_state', (location, CLEAN))\n"
   ]
  },
  {
   "cell_type": "code",
   "execution_count": null,
   "metadata": {},
   "outputs": [],
   "source": [
    "init_world_model()"
   ]
  },
  {
   "cell_type": "code",
   "execution_count": null,
   "metadata": {},
   "outputs": [],
   "source": [
    "pyDatalog.ask('location(X)').answers"
   ]
  },
  {
   "cell_type": "code",
   "execution_count": null,
   "metadata": {},
   "outputs": [],
   "source": [
    "ask_pred('heading')"
   ]
  },
  {
   "cell_type": "code",
   "execution_count": null,
   "metadata": {},
   "outputs": [],
   "source": [
    "tell_recon(recon)"
   ]
  },
  {
   "cell_type": "code",
   "execution_count": null,
   "metadata": {},
   "outputs": [],
   "source": [
    "ask(f\"square_state((X, gold))\").answers"
   ]
  },
  {
   "cell_type": "code",
   "execution_count": null,
   "metadata": {},
   "outputs": [],
   "source": [
    "ask(f\"square_state((X, wall))\").answers"
   ]
  },
  {
   "cell_type": "code",
   "execution_count": null,
   "metadata": {},
   "outputs": [],
   "source": [
    "tell_recon(recon)"
   ]
  },
  {
   "cell_type": "code",
   "execution_count": null,
   "metadata": {},
   "outputs": [],
   "source": [
    "location(X)"
   ]
  },
  {
   "cell_type": "code",
   "execution_count": null,
   "metadata": {},
   "outputs": [],
   "source": [
    "replace_location(2,3)"
   ]
  },
  {
   "cell_type": "code",
   "execution_count": null,
   "metadata": {},
   "outputs": [],
   "source": [
    "pyDatalog.ask('location(X,Y)').answers"
   ]
  },
  {
   "cell_type": "code",
   "execution_count": null,
   "metadata": {},
   "outputs": [],
   "source": [
    "tell_recon(recon)"
   ]
  },
  {
   "cell_type": "code",
   "execution_count": null,
   "metadata": {},
   "outputs": [],
   "source": [
    "def dostuff():\n",
    "    assert_fact(\"foo\", 1)\n",
    "    assert_fact(\"foo\", 2)\n",
    "    assert_fact(\"foo\", 3)"
   ]
  },
  {
   "cell_type": "code",
   "execution_count": null,
   "metadata": {},
   "outputs": [],
   "source": [
    "clear()\n",
    "create_terms('foo', 'bar')\n",
    "dostuff()"
   ]
  },
  {
   "cell_type": "code",
   "execution_count": null,
   "metadata": {},
   "outputs": [],
   "source": [
    "foo(X)"
   ]
  },
  {
   "cell_type": "code",
   "execution_count": null,
   "metadata": {},
   "outputs": [],
   "source": [
    "clear()\n",
    "create_terms('square_state')\n",
    "+square_state(((1,2), \"foo\"))\n"
   ]
  },
  {
   "cell_type": "code",
   "execution_count": null,
   "metadata": {},
   "outputs": [],
   "source": [
    "ask_square_state((1,3))"
   ]
  },
  {
   "cell_type": "code",
   "execution_count": null,
   "metadata": {},
   "outputs": [],
   "source": []
  }
 ],
 "metadata": {
  "kernelspec": {
   "display_name": "Python 3",
   "language": "python",
   "name": "python3"
  },
  "language_info": {
   "codemirror_mode": {
    "name": "ipython",
    "version": 3
   },
   "file_extension": ".py",
   "mimetype": "text/x-python",
   "name": "python",
   "nbconvert_exporter": "python",
   "pygments_lexer": "ipython3",
   "version": "3.7.0"
  }
 },
 "nbformat": 4,
 "nbformat_minor": 2
}
