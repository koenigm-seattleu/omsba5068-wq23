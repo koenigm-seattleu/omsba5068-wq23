{
 "cells": [
  {
   "cell_type": "markdown",
   "metadata": {},
   "source": [
    "### Sucky Policy\n",
    "\n",
    "Agent takes care of macro actions and paths, and depleted battery\n",
    "First try only one piece of gold\n",
    "\n",
    "Best Move:\n",
    "*  SUCK if at (r,c) and dirt at (r,c)\n",
    "*  UNLOAD if at (1,1) and have gold\n",
    "*  GOTO (1,1) if have gold\n",
    "*  MINE if at (r,c) and gold at (r,c)\n",
    "*  GOTO (r,c) gold at (r,c)\n",
    "\n"
   ]
  },
  {
   "cell_type": "code",
   "execution_count": null,
   "metadata": {},
   "outputs": [],
   "source": [
    "##  Build recon for a world\n",
    "from constants import EAST\n",
    "\n",
    "recon = {\n",
    "    'height': 5,\n",
    "    'width': 5,\n",
    "    'position': (1,1),\n",
    "    'heading': EAST,\n",
    "    'gold': [(3,3)],\n",
    "    'walls': [(0,0), (0,1), (0,2), (0,3), (0,4),\n",
    "             (1,0), (1,4),\n",
    "             (2,0), (2,4),\n",
    "             (3,0), (3,4),\n",
    "             (4,0), (4,1), (4,2), (4,3), (4,4),\n",
    "             (2,2), (3,1)],\n",
    "    'dirt': [(1,2)]\n",
    "}"
   ]
  },
  {
   "cell_type": "code",
   "execution_count": 2,
   "metadata": {},
   "outputs": [],
   "source": []
  },
  {
   "cell_type": "code",
   "execution_count": 3,
   "metadata": {},
   "outputs": [],
   "source": []
  },
  {
   "cell_type": "code",
   "execution_count": 68,
   "metadata": {},
   "outputs": [],
   "source": [
    "from pyDatalog import pyDatalog\n",
    "from pyDatalog.pyDatalog import assert_fact, retract_fact, ask, create_terms, clear\n",
    "\n",
    "from constants import WALL, GOLD, DIRT, CLEAN\n",
    "from constants import ACTION_FORWARD, ACTION_TURN_LEFT, ACTION_TURN_RIGHT, ACTION_MINE_GOLD, ACTION_UNLOAD_GOLD\n",
    "\n",
    "create_terms('location, heading, square_state, num_gold, last_action')\n",
    "\n",
    "def ask_pred(pred):\n",
    "    return ask(f\"{pred}(_)\").answers[0][0]\n",
    "\n",
    "def ask_square_state(sq):\n",
    "    a = ask(f\"square_state(({sq}, _))\")\n",
    "    if a == None:\n",
    "        return None\n",
    "    else:\n",
    "        return a.answers[0][0]\n",
    "\n",
    "def init_world_model():\n",
    "    clear()\n",
    "    assert_fact('num_gold', 0)\n",
    "    assert_fact('last_action', None)\n",
    "            \n",
    "def tell_recon(recon):\n",
    "    assert_fact('location', recon['position'])\n",
    "    assert_fact('heading', recon['heading'])\n",
    "    if 'walls' in recon:\n",
    "        for square in recon['walls']:\n",
    "            assert_fact('square_state', (square, WALL))\n",
    "    if 'gold' in recon:\n",
    "        for square in recon['gold']:\n",
    "            assert_fact('square_state', (square, GOLD))\n",
    "    \n",
    "def tell_last_action(action):\n",
    "    assert_fact('last_action', action)\n",
    "        \n",
    "def tell_percepts(percepts):\n",
    "    dirt = percepts.attributes['dirt']\n",
    "    bump = percepts.attributes['bump']\n",
    "    last_action = ask_pred('last_action')\n",
    "    location = ask_pred('location')\n",
    "    heading = ask_pred('heading')\n",
    "    num_gold = ask_pred('num_gold')\n",
    "    if last_action == ACTION_FORWARD and bump:\n",
    "        assert_fact('square_state', (square_at_heading(location, heading), WALL))\n",
    "    elif last_action == ACTION_FORWARD and not bump:\n",
    "        newsquare = square_at_heading(location, heading)\n",
    "        assert_fact('location', newsquare)\n",
    "        assert_fact('square_state', (newsquare, DIRT if dirt else CLEAN))\n",
    "    elif last_action == ACTION_TURN_LEFT:\n",
    "        assert_fact('heading', heading_in_direction(heading, LEFT))\n",
    "    elif last_action == ACTION_TURN_RIGHT:\n",
    "        assert_fact('heading', heading_in_direction(heading, RIGHT))\n",
    "    elif last_action == ACTION_MINE_GOLD and ask_square_state(location) == GOLD:\n",
    "        assert_fact('square_state', (location, CLEAN))\n",
    "        assert_fact('num_gold', num_gold+1)\n",
    "    elif last_action == ACTION_UNLOAD_GOLD and location == (1,1):\n",
    "        assert_fact('num_gold', num_gold-1)\n",
    "    # For first step, last_action is None but want to set DIRT anyway\n",
    "    if dirt:\n",
    "        assert_fact('square_state', (location, DIRT))\n",
    "    else:\n",
    "        if ask_square_state(location) != GOLD:\n",
    "            assert_fact('square_state', (location, CLEAN))\n"
   ]
  },
  {
   "cell_type": "code",
   "execution_count": 57,
   "metadata": {},
   "outputs": [],
   "source": [
    "init_world_model()"
   ]
  },
  {
   "cell_type": "code",
   "execution_count": 58,
   "metadata": {},
   "outputs": [],
   "source": [
    "##  Build recon for a world\n",
    "from constants import EAST\n",
    "\n",
    "recon = {\n",
    "    'height': 5,\n",
    "    'width': 5,\n",
    "    'position': (1,1),\n",
    "    'heading': EAST,\n",
    "    'gold': [(3,3)],\n",
    "    'walls': [(0,0), (0,1), (0,2), (0,3), (0,4),\n",
    "             (1,0), (1,4),\n",
    "             (2,0), (2,4),\n",
    "             (3,0), (3,4),\n",
    "             (4,0), (4,1), (4,2), (4,3), (4,4),\n",
    "             (2,2), (3,1)],\n",
    "    'dirt': [(1,2)]\n",
    "}\n",
    "tell_recon(recon)"
   ]
  },
  {
   "cell_type": "code",
   "execution_count": 9,
   "metadata": {},
   "outputs": [
    {
     "data": {
      "text/plain": [
       "[((1, 1),)]"
      ]
     },
     "execution_count": 9,
     "metadata": {},
     "output_type": "execute_result"
    }
   ],
   "source": [
    "pyDatalog.ask('location(X)').answers"
   ]
  },
  {
   "cell_type": "code",
   "execution_count": 10,
   "metadata": {},
   "outputs": [
    {
     "data": {
      "text/plain": [
       "'east'"
      ]
     },
     "execution_count": 10,
     "metadata": {},
     "output_type": "execute_result"
    }
   ],
   "source": [
    "ask_pred('heading')"
   ]
  },
  {
   "cell_type": "code",
   "execution_count": null,
   "metadata": {},
   "outputs": [],
   "source": [
    "tell_recon(recon)"
   ]
  },
  {
   "cell_type": "code",
   "execution_count": 11,
   "metadata": {},
   "outputs": [
    {
     "data": {
      "text/plain": [
       "[((3, 3),)]"
      ]
     },
     "execution_count": 11,
     "metadata": {},
     "output_type": "execute_result"
    }
   ],
   "source": [
    "ask(f\"square_state((X, gold))\").answers"
   ]
  },
  {
   "cell_type": "code",
   "execution_count": 12,
   "metadata": {},
   "outputs": [
    {
     "data": {
      "text/plain": [
       "[((3, 1),),\n",
       " ((2, 2),),\n",
       " ((4, 4),),\n",
       " ((4, 3),),\n",
       " ((4, 2),),\n",
       " ((4, 1),),\n",
       " ((4, 0),),\n",
       " ((3, 4),),\n",
       " ((3, 0),),\n",
       " ((2, 4),),\n",
       " ((2, 0),),\n",
       " ((1, 4),),\n",
       " ((1, 0),),\n",
       " ((0, 4),),\n",
       " ((0, 3),),\n",
       " ((0, 2),),\n",
       " ((0, 1),),\n",
       " ((0, 0),)]"
      ]
     },
     "execution_count": 12,
     "metadata": {},
     "output_type": "execute_result"
    }
   ],
   "source": [
    "ask(f\"square_state((X, wall))\").answers"
   ]
  },
  {
   "cell_type": "markdown",
   "metadata": {},
   "source": [
    "SUCK if at (r,c) and dirt at (r,c)\n",
    "UNLOAD if at (1,1) and have gold\n",
    "GOTO (1,1) if have gold\n",
    "MINE if at (r,c) and gold at (r,c)\n",
    "GOTO (r,c) gold at (r,c)"
   ]
  },
  {
   "cell_type": "code",
   "execution_count": 83,
   "metadata": {},
   "outputs": [],
   "source": [
    "from constants import ACTION_SUCK, ACTION_STOP\n",
    "def init_rules():\n",
    "    create_terms('best_action', 'S', 'T')\n",
    "    best_action(ACTION_SUCK) <= location(S) & square_state((S, DIRT)) \n",
    "    best_action(ACTION_UNLOAD_GOLD) <= location(S) & (S==(1,1)) & num_gold(T) & (T > 0)\n",
    "    best_action(ACTION_MINE_GOLD) <= location(S) &  square_state((S, GOLD)) & num_gold(T) & (T < 2)\n",
    "    best_action((\"GOTO\", S)) <= square_state((S, GOLD)) & num_gold(T) & (T < 2)\n",
    "    best_action((\"GOTO\", (1,1))) <= num_gold(T) & (T > 1)\n",
    "    +best_action(None)"
   ]
  },
  {
   "cell_type": "code",
   "execution_count": 84,
   "metadata": {},
   "outputs": [],
   "source": [
    "class Percept:\n",
    "    def __init__(self, d):\n",
    "        self.attributes = d"
   ]
  },
  {
   "cell_type": "code",
   "execution_count": 85,
   "metadata": {},
   "outputs": [],
   "source": [
    "init_world_model()\n",
    "tell_recon(recon)\n",
    "tell_percepts(Percept({\"dirt\": False, \"bump\": False}))\n",
    "init_rules()\n",
    "+num_gold(1)"
   ]
  },
  {
   "cell_type": "code",
   "execution_count": 86,
   "metadata": {},
   "outputs": [
    {
     "data": {
      "text/plain": [
       "[(None,), (('GOTO', (3, 3)),), ('unloadgold',)]"
      ]
     },
     "execution_count": 86,
     "metadata": {},
     "output_type": "execute_result"
    }
   ],
   "source": [
    "best_action(S)"
   ]
  },
  {
   "cell_type": "code",
   "execution_count": 81,
   "metadata": {},
   "outputs": [
    {
     "data": {
      "text/plain": [
       "[(1,), (0,)]"
      ]
     },
     "execution_count": 81,
     "metadata": {},
     "output_type": "execute_result"
    }
   ],
   "source": [
    "num_gold(S)"
   ]
  },
  {
   "cell_type": "code",
   "execution_count": 31,
   "metadata": {},
   "outputs": [
    {
     "data": {
      "text/plain": [
       "[]"
      ]
     },
     "execution_count": 31,
     "metadata": {},
     "output_type": "execute_result"
    }
   ],
   "source": [
    "square_state(((1,1), T))"
   ]
  },
  {
   "cell_type": "code",
   "execution_count": 19,
   "metadata": {},
   "outputs": [
    {
     "data": {
      "text/plain": [
       "[]"
      ]
     },
     "execution_count": 19,
     "metadata": {},
     "output_type": "execute_result"
    }
   ],
   "source": [
    "square_state(((1,1), T))"
   ]
  },
  {
   "cell_type": "code",
   "execution_count": null,
   "metadata": {},
   "outputs": [],
   "source": [
    "tell_recon(recon)"
   ]
  },
  {
   "cell_type": "code",
   "execution_count": null,
   "metadata": {},
   "outputs": [],
   "source": [
    "location(X)"
   ]
  },
  {
   "cell_type": "code",
   "execution_count": null,
   "metadata": {},
   "outputs": [],
   "source": [
    "replace_location(2,3)"
   ]
  },
  {
   "cell_type": "code",
   "execution_count": null,
   "metadata": {},
   "outputs": [],
   "source": [
    "pyDatalog.ask('location(X,Y)').answers"
   ]
  },
  {
   "cell_type": "code",
   "execution_count": null,
   "metadata": {},
   "outputs": [],
   "source": [
    "tell_recon(recon)"
   ]
  },
  {
   "cell_type": "code",
   "execution_count": null,
   "metadata": {},
   "outputs": [],
   "source": [
    "def dostuff():\n",
    "    assert_fact(\"foo\", 1)\n",
    "    assert_fact(\"foo\", 2)\n",
    "    assert_fact(\"foo\", 3)"
   ]
  },
  {
   "cell_type": "code",
   "execution_count": null,
   "metadata": {},
   "outputs": [],
   "source": [
    "clear()\n",
    "create_terms('foo', 'bar')\n",
    "dostuff()"
   ]
  },
  {
   "cell_type": "code",
   "execution_count": null,
   "metadata": {},
   "outputs": [],
   "source": [
    "foo(X)"
   ]
  },
  {
   "cell_type": "code",
   "execution_count": null,
   "metadata": {},
   "outputs": [],
   "source": [
    "clear()\n",
    "create_terms('square_state')\n",
    "+square_state(((1,2), \"foo\"))\n"
   ]
  },
  {
   "cell_type": "code",
   "execution_count": null,
   "metadata": {},
   "outputs": [],
   "source": [
    "ask_square_state((1,3))"
   ]
  },
  {
   "cell_type": "code",
   "execution_count": 21,
   "metadata": {},
   "outputs": [],
   "source": [
    "create_terms(\"a\", \"b\", \"c\")\n",
    "+a(1)\n",
    "+a(2)\n",
    "+a(3)\n",
    "+b(2)\n",
    "+b(3)\n",
    "+b(4)\n",
    "+c(3)\n",
    "+c(4)\n",
    "+c(5)"
   ]
  },
  {
   "cell_type": "code",
   "execution_count": 23,
   "metadata": {},
   "outputs": [
    {
     "data": {
      "text/plain": [
       "[(3,), (2,), (1,)]"
      ]
     },
     "execution_count": 23,
     "metadata": {},
     "output_type": "execute_result"
    }
   ],
   "source": [
    "create_terms(\"X\")\n",
    "a(X)"
   ]
  },
  {
   "cell_type": "code",
   "execution_count": 26,
   "metadata": {},
   "outputs": [
    {
     "data": {
      "text/plain": [
       "[(3,), (2,)]"
      ]
     },
     "execution_count": 26,
     "metadata": {},
     "output_type": "execute_result"
    }
   ],
   "source": [
    "a(X) & b(X)"
   ]
  },
  {
   "cell_type": "code",
   "execution_count": 25,
   "metadata": {},
   "outputs": [
    {
     "data": {
      "text/plain": [
       "[(4,), (3,), (2,)]"
      ]
     },
     "execution_count": 25,
     "metadata": {},
     "output_type": "execute_result"
    }
   ],
   "source": [
    "b(X)"
   ]
  },
  {
   "cell_type": "code",
   "execution_count": null,
   "metadata": {},
   "outputs": [],
   "source": []
  }
 ],
 "metadata": {
  "kernelspec": {
   "display_name": "Python 3",
   "language": "python",
   "name": "python3"
  },
  "language_info": {
   "codemirror_mode": {
    "name": "ipython",
    "version": 3
   },
   "file_extension": ".py",
   "mimetype": "text/x-python",
   "name": "python",
   "nbconvert_exporter": "python",
   "pygments_lexer": "ipython3",
   "version": "3.7.0"
  }
 },
 "nbformat": 4,
 "nbformat_minor": 2
}
