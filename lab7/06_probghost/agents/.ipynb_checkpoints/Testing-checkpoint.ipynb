{
 "cells": [
  {
   "cell_type": "code",
   "execution_count": null,
   "metadata": {},
   "outputs": [],
   "source": [
    "from pyDatalog import pyDatalog\n",
    "\n",
    "pyDatalog.create_terms('X,Y,Z, manager, indirect_manager')\n",
    "\n",
    "indirect_manager(X,Y) <=  manager(X,Y)\n",
    "indirect_manager(X,Y) <= manager(X,Z) & indirect_manager(Z,Y)\n"
   ]
  },
  {
   "cell_type": "code",
   "execution_count": null,
   "metadata": {},
   "outputs": [],
   "source": [
    "+manager('John', 'Mary')\n",
    "+manager('Mary', 'Jerry')"
   ]
  },
  {
   "cell_type": "code",
   "execution_count": null,
   "metadata": {},
   "outputs": [],
   "source": [
    "t = manager(X, Y)\n",
    "type(t)\n",
    "for q in t:\n",
    "    print(q)"
   ]
  },
  {
   "cell_type": "code",
   "execution_count": null,
   "metadata": {},
   "outputs": [],
   "source": [
    "indirect_manager(X, Y)"
   ]
  },
  {
   "cell_type": "code",
   "execution_count": null,
   "metadata": {},
   "outputs": [],
   "source": [
    "from pyDatalog import pyDatalog\n",
    "pyDatalog.create_terms('square, adjacent, R1, C1, R2, C2, R, C')\n",
    "\n",
    "for i in range(1,4):\n",
    "    for j in range(1,4):\n",
    "        +square(i,j)"
   ]
  },
  {
   "cell_type": "code",
   "execution_count": 2,
   "metadata": {},
   "outputs": [
    {
     "data": {
      "text/plain": [
       "adjacent(R1,C1,R2,C2) <= square(R1,C1)&square(R2,C"
      ]
     },
     "execution_count": 2,
     "metadata": {},
     "output_type": "execute_result"
    }
   ],
   "source": [
    "adjacent(R1, C1, R2, C2 ) <= square(R1, C1) & square(R2, C2) & (R1 == R2 + 1) & (C1 == C2)\n",
    "adjacent(R1, C1, R2, C2 ) <= square(R1, C1) & square(R2, C2) & (R1 == R2 - 1) & (C1 == C2)\n",
    "adjacent(R1, C1, R2, C2 ) <= square(R1, C1) & square(R2, C2) & (C1 == C2 + 1) & (R1 == R2)\n",
    "adjacent(R1, C1, R2, C2 ) <= square(R1, C1) & square(R2, C2) & (C1 == C2 - 1) & (R1 == R2)"
   ]
  },
  {
   "cell_type": "code",
   "execution_count": 4,
   "metadata": {},
   "outputs": [
    {
     "data": {
      "text/plain": [
       "[(2, 3), (2, 1), (3, 2), (1, 2)]"
      ]
     },
     "execution_count": 4,
     "metadata": {},
     "output_type": "execute_result"
    }
   ],
   "source": [
    "adjacent(2,2,R1, R2)"
   ]
  },
  {
   "cell_type": "markdown",
   "metadata": {},
   "source": [
    "```\n",
    "Criminal(x1) <- American(x1), Weapon(y1), Sells(x1,y1,z1), Hostile(z1)\n",
    "Sells(West,x2,Nono) <- Missile(x2), Owns(Nono,x2)\n",
    "Weapon(x3) <- Missile(x3)\n",
    "Hostile(x4, America) <- Enemy(x4, America)\n",
    "Owns(Nono, M1)\n",
    "Missile(M1)\n",
    "American(West)\n",
    "Enemy(Nono,America)\n",
    "Query / To Prove:  Criminal(West)\n",
    "```"
   ]
  },
  {
   "cell_type": "code",
   "execution_count": 5,
   "metadata": {},
   "outputs": [],
   "source": [
    "from pyDatalog import pyDatalog\n",
    "\n",
    "pyDatalog.create_terms('criminal, american, weapon, sells, hostile, owns, missile, enemy')\n",
    "pyDatalog.create_terms('X, Y, Z')\n",
    "\n",
    "criminal(X) <= american(X) & weapon(Y) & sells(X,Y,Z), hostile(Z)\n",
    "sells('West', X, 'Nono') <= missile(X) & owns('Nono', X)\n",
    "weapon(X) <= missile(X)\n",
    "hostile(X, 'America') <= enemy(X, 'America')\n",
    "+owns('Nono', 'M1')\n",
    "+missile('M1')\n",
    "+american('West')\n",
    "+enemy('Nono', 'America')\n"
   ]
  },
  {
   "cell_type": "code",
   "execution_count": 6,
   "metadata": {},
   "outputs": [
    {
     "data": {
      "text/plain": [
       "[('Other',), ('West',)]"
      ]
     },
     "execution_count": 6,
     "metadata": {},
     "output_type": "execute_result"
    }
   ],
   "source": [
    "criminal(X)"
   ]
  },
  {
   "cell_type": "code",
   "execution_count": 9,
   "metadata": {},
   "outputs": [],
   "source": [
    "pyDatalog.create_terms('happy, healthy, wealthy, wise')\n",
    "pyDatalog.create_terms('X')\n",
    "\n",
    "happy(X) <= healthy(X), wealthy(X)\n",
    "happy(X) <= wise(X)\n",
    "+happy('Fred')\n",
    "+healthy('Fred')\n",
    "+wise('Fred')\n"
   ]
  },
  {
   "cell_type": "code",
   "execution_count": 15,
   "metadata": {},
   "outputs": [
    {
     "data": {
      "text/plain": [
       "[('Fred',)]"
      ]
     },
     "execution_count": 15,
     "metadata": {},
     "output_type": "execute_result"
    }
   ],
   "source": [
    "pyDatalog.ask('happy(X)').answers"
   ]
  },
  {
   "cell_type": "markdown",
   "metadata": {},
   "source": [
    "### Sucky Policy\n",
    "\n",
    "Agent takes care of macro actions and paths, and depleted battery\n",
    "First try only one piece of gold\n",
    "\n",
    "Best Move:\n",
    "*  SUCK if at (r,c) and dirt at (r,c)\n",
    "*  UNLOAD if at (1,1) and have gold\n",
    "*  GOTO (1,1) if have gold\n",
    "*  MINE if at (r,c) and gold at (r,c)\n",
    "*  GOTO (r,c) gold at (r,c)\n",
    "\n"
   ]
  },
  {
   "cell_type": "code",
   "execution_count": 2,
   "metadata": {},
   "outputs": [
    {
     "ename": "ModuleNotFoundError",
     "evalue": "No module named 'constants'",
     "output_type": "error",
     "traceback": [
      "\u001b[1;31m---------------------------------------------------------------------------\u001b[0m",
      "\u001b[1;31mModuleNotFoundError\u001b[0m                       Traceback (most recent call last)",
      "\u001b[1;32m<ipython-input-2-ec88ef60ef1c>\u001b[0m in \u001b[0;36m<module>\u001b[1;34m()\u001b[0m\n\u001b[0;32m      1\u001b[0m \u001b[1;31m##  Build recon for a world\u001b[0m\u001b[1;33m\u001b[0m\u001b[1;33m\u001b[0m\u001b[0m\n\u001b[1;32m----> 2\u001b[1;33m \u001b[1;32mfrom\u001b[0m \u001b[0mconstants\u001b[0m \u001b[1;32mimport\u001b[0m \u001b[0mEAST\u001b[0m\u001b[1;33m\u001b[0m\u001b[0m\n\u001b[0m\u001b[0;32m      3\u001b[0m \u001b[1;33m\u001b[0m\u001b[0m\n\u001b[0;32m      4\u001b[0m recon = {\n\u001b[0;32m      5\u001b[0m     \u001b[1;34m'height'\u001b[0m\u001b[1;33m:\u001b[0m \u001b[1;36m4\u001b[0m\u001b[1;33m,\u001b[0m\u001b[1;33m\u001b[0m\u001b[0m\n",
      "\u001b[1;31mModuleNotFoundError\u001b[0m: No module named 'constants'"
     ]
    }
   ],
   "source": [
    "##  Build recon for a world\n",
    "from constants import EAST\n",
    "\n",
    "recon = {\n",
    "    'height': 4,\n",
    "    'width': 4,\n",
    "    'position': (1,1),\n",
    "    'heading': EAST,\n",
    "    'gold': [(3,3)],\n",
    "    'walls': [(0,0), (0,1), (0,2), (0,3), (0,4),\n",
    "             (1,0), (1,4),\n",
    "             (2,0), (2,4),\n",
    "             (3,0), (3,4),\n",
    "             (4,0), (4,1), (4,2), (4,3), (4,4)],\n",
    "    'dirt': [(1,2)]\n",
    "}"
   ]
  },
  {
   "cell_type": "code",
   "execution_count": null,
   "metadata": {},
   "outputs": [],
   "source": []
  }
 ],
 "metadata": {
  "kernelspec": {
   "display_name": "Python 3",
   "language": "python",
   "name": "python3"
  },
  "language_info": {
   "codemirror_mode": {
    "name": "ipython",
    "version": 3
   },
   "file_extension": ".py",
   "mimetype": "text/x-python",
   "name": "python",
   "nbconvert_exporter": "python",
   "pygments_lexer": "ipython3",
   "version": "3.7.0"
  }
 },
 "nbformat": 4,
 "nbformat_minor": 2
}
