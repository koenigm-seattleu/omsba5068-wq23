{
 "cells": [
  {
   "cell_type": "markdown",
   "metadata": {},
   "source": [
    "### Preprocessing Steps\n",
    "\n",
    "* Case normalization\n",
    "* Special-case tokens\n",
    "* Remove punctuation\n",
    "* Tokenize on whitespace\n",
    "* Stopword removal\n",
    "* Spell correction\n",
    "* Stemming\n",
    "* (Synonym substition)\n",
    "* Vectorization"
   ]
  },
  {
   "cell_type": "code",
   "execution_count": 1,
   "metadata": {},
   "outputs": [],
   "source": [
    "import nltk"
   ]
  },
  {
   "cell_type": "code",
   "execution_count": 2,
   "metadata": {},
   "outputs": [],
   "source": [
    "original_sentences = [\n",
    "    \"Sucky, move 3 spaces forward\",\n",
    "    \"Rotate right please Sucky?\",\n",
    "    \"i'd like you to move to (1,1)\",\n",
    "    \"yo sucky, some gold at (1,1) please!\",\n",
    "    \"Where are you?\",\n",
    "    \"Fnid me some GOLD!\"\n",
    "]"
   ]
  },
  {
   "cell_type": "code",
   "execution_count": 3,
   "metadata": {},
   "outputs": [
    {
     "data": {
      "text/plain": [
       "['sucky, move 3 spaces forward',\n",
       " 'rotate right please sucky?',\n",
       " \"i'd like you to move to (1,1)\",\n",
       " 'yo sucky, some gold at (1,1) please!',\n",
       " 'where are you?',\n",
       " 'fnid me some gold!']"
      ]
     },
     "execution_count": 3,
     "metadata": {},
     "output_type": "execute_result"
    }
   ],
   "source": [
    "sentences = original_sentences\n",
    "sent2 = [s.lower() for s in sentences]\n",
    "sent2"
   ]
  },
  {
   "cell_type": "code",
   "execution_count": 4,
   "metadata": {},
   "outputs": [],
   "source": [
    "import re\n",
    "\n",
    "# Matches coordinates like (3,5)\n",
    "recoord = re.compile('\\(\\d+,\\d+\\)')\n",
    "# Matches strings of digits\n",
    "renumber = re.compile('\\d+')\n",
    "\n",
    "def subst_special(line):\n",
    "    line1 = recoord.sub('xxcoordxx', line)\n",
    "    line2 = renumber.sub('xxnumberxx', line1)\n",
    "    if line2[-1] == '?':\n",
    "        line2 += ' xxqmarkxx'\n",
    "    return line2\n"
   ]
  },
  {
   "cell_type": "code",
   "execution_count": 5,
   "metadata": {},
   "outputs": [
    {
     "data": {
      "text/plain": [
       "['sucky, move xxnumberxx spaces forward',\n",
       " 'rotate right please sucky? xxqmarkxx',\n",
       " \"i'd like you to move to xxcoordxx\",\n",
       " 'yo sucky, some gold at xxcoordxx please!',\n",
       " 'where are you? xxqmarkxx',\n",
       " 'fnid me some gold!']"
      ]
     },
     "execution_count": 5,
     "metadata": {},
     "output_type": "execute_result"
    }
   ],
   "source": [
    "sent3 = [subst_special(s) for s in sent2]\n",
    "sent3"
   ]
  },
  {
   "cell_type": "code",
   "execution_count": 6,
   "metadata": {},
   "outputs": [],
   "source": [
    "import string\n",
    "def remove_punct(str):\n",
    "    return \"\".join([char for char in str if char not in string.punctuation])"
   ]
  },
  {
   "cell_type": "code",
   "execution_count": 7,
   "metadata": {},
   "outputs": [
    {
     "data": {
      "text/plain": [
       "['sucky move xxnumberxx spaces forward',\n",
       " 'rotate right please sucky xxqmarkxx',\n",
       " 'id like you to move to xxcoordxx',\n",
       " 'yo sucky some gold at xxcoordxx please',\n",
       " 'where are you xxqmarkxx',\n",
       " 'fnid me some gold']"
      ]
     },
     "execution_count": 7,
     "metadata": {},
     "output_type": "execute_result"
    }
   ],
   "source": [
    "sent4 = [remove_punct(s) for s in sent3]\n",
    "sent4"
   ]
  },
  {
   "cell_type": "code",
   "execution_count": 8,
   "metadata": {},
   "outputs": [
    {
     "data": {
      "text/plain": [
       "[['sucky', 'move', 'xxnumberxx', 'spaces', 'forward'],\n",
       " ['rotate', 'right', 'please', 'sucky', 'xxqmarkxx'],\n",
       " ['id', 'like', 'you', 'to', 'move', 'to', 'xxcoordxx'],\n",
       " ['yo', 'sucky', 'some', 'gold', 'at', 'xxcoordxx', 'please'],\n",
       " ['where', 'are', 'you', 'xxqmarkxx'],\n",
       " ['fnid', 'me', 'some', 'gold']]"
      ]
     },
     "execution_count": 8,
     "metadata": {},
     "output_type": "execute_result"
    }
   ],
   "source": [
    "sent5 = [s.split() for s in sent4]\n",
    "sent5"
   ]
  },
  {
   "cell_type": "code",
   "execution_count": 9,
   "metadata": {},
   "outputs": [],
   "source": [
    "from nltk.corpus import stopwords\n",
    "stop_words = stopwords.words('english')\n",
    "stop_words += ['sucky']\n",
    "\n",
    "def remove_stopwords(words):\n",
    "    return [word for word in words if word not in stop_words]\n"
   ]
  },
  {
   "cell_type": "code",
   "execution_count": 12,
   "metadata": {},
   "outputs": [
    {
     "data": {
      "text/plain": [
       "180"
      ]
     },
     "execution_count": 12,
     "metadata": {},
     "output_type": "execute_result"
    }
   ],
   "source": [
    "len(stop_words)"
   ]
  },
  {
   "cell_type": "code",
   "execution_count": 10,
   "metadata": {},
   "outputs": [
    {
     "data": {
      "text/plain": [
       "[['move', 'xxnumberxx', 'spaces', 'forward'],\n",
       " ['rotate', 'right', 'please', 'xxqmarkxx'],\n",
       " ['id', 'like', 'move', 'xxcoordxx'],\n",
       " ['yo', 'gold', 'xxcoordxx', 'please'],\n",
       " ['xxqmarkxx'],\n",
       " ['fnid', 'gold']]"
      ]
     },
     "execution_count": 10,
     "metadata": {},
     "output_type": "execute_result"
    }
   ],
   "source": [
    "sent6 = [remove_stopwords(s) for s in sent5]\n",
    "sent6"
   ]
  },
  {
   "cell_type": "code",
   "execution_count": 16,
   "metadata": {},
   "outputs": [
    {
     "data": {
      "text/plain": [
       "236736"
      ]
     },
     "execution_count": 16,
     "metadata": {},
     "output_type": "execute_result"
    }
   ],
   "source": [
    "len(words.words())"
   ]
  },
  {
   "cell_type": "code",
   "execution_count": 17,
   "metadata": {},
   "outputs": [
    {
     "name": "stdout",
     "output_type": "stream",
     "text": [
      "[nltk_data] Downloading package words to\n",
      "[nltk_data]     C:\\Users\\hanks\\AppData\\Roaming\\nltk_data...\n",
      "[nltk_data]   Package words is already up-to-date!\n"
     ]
    }
   ],
   "source": [
    "from nltk.corpus import words\n",
    "from nltk.metrics.distance import edit_distance\n",
    "nltk.download('words')\n",
    "\n",
    "# Recognizes \"special tokens\" so they won't be spell corrected\n",
    "special = re.compile('xx\\w+xx')\n",
    "\n",
    "def correct(word):\n",
    "    if special.match(word):\n",
    "        return word\n",
    "    if word in words.words():\n",
    "        return word\n",
    "    else:\n",
    "        print(f\"Correcting {word}\")\n",
    "        distances = ((edit_distance(word, realword), realword) for realword in words.words())\n",
    "        closest = min(distances)\n",
    "        print(f\"Got {closest}\")\n",
    "        return closest[1]\n",
    "    \n",
    "def spell_correct(words):\n",
    "    return [correct(word) for word in words]\n"
   ]
  },
  {
   "cell_type": "code",
   "execution_count": 18,
   "metadata": {},
   "outputs": [
    {
     "name": "stdout",
     "output_type": "stream",
     "text": [
      "Correcting spaces\n",
      "Got (1, 'space')\n",
      "Correcting fnid\n",
      "Got (1, 'Enid')\n"
     ]
    },
    {
     "data": {
      "text/plain": [
       "[['move', 'xxnumberxx', 'space', 'forward'],\n",
       " ['rotate', 'right', 'please', 'xxqmarkxx'],\n",
       " ['id', 'like', 'move', 'xxcoordxx'],\n",
       " ['yo', 'gold', 'xxcoordxx', 'please'],\n",
       " ['xxqmarkxx'],\n",
       " ['Enid', 'gold']]"
      ]
     },
     "execution_count": 18,
     "metadata": {},
     "output_type": "execute_result"
    }
   ],
   "source": [
    "sent7 = [spell_correct(s) for s in sent6]\n",
    "sent7"
   ]
  },
  {
   "cell_type": "code",
   "execution_count": 19,
   "metadata": {},
   "outputs": [],
   "source": [
    "from nltk.stem.porter import PorterStemmer\n",
    "porter = PorterStemmer()\n",
    "\n",
    "def stem(words):\n",
    "    return [porter.stem(word) for word in words]\n"
   ]
  },
  {
   "cell_type": "code",
   "execution_count": 20,
   "metadata": {},
   "outputs": [
    {
     "data": {
      "text/plain": [
       "[['move', 'xxnumberxx', 'space', 'forward'],\n",
       " ['rotat', 'right', 'pleas', 'xxqmarkxx'],\n",
       " ['id', 'like', 'move', 'xxcoordxx'],\n",
       " ['yo', 'gold', 'xxcoordxx', 'pleas'],\n",
       " ['xxqmarkxx'],\n",
       " ['enid', 'gold']]"
      ]
     },
     "execution_count": 20,
     "metadata": {},
     "output_type": "execute_result"
    }
   ],
   "source": [
    "sent8 = [stem(s) for s in sent7]\n",
    "sent8"
   ]
  },
  {
   "cell_type": "markdown",
   "metadata": {},
   "source": [
    "#### Vectorization"
   ]
  },
  {
   "cell_type": "code",
   "execution_count": 21,
   "metadata": {},
   "outputs": [
    {
     "data": {
      "text/plain": [
       "['Sucky, move xxnumberxx spaces forward',\n",
       " 'Rotate right please Sucky? xxqmarkxx',\n",
       " \"i'd like you to move to xxcoordxx\",\n",
       " 'yo sucky, some gold at xxcoordxx please!',\n",
       " 'Where are you? xxqmarkxx',\n",
       " 'Fnid me some GOLD!']"
      ]
     },
     "execution_count": 21,
     "metadata": {},
     "output_type": "execute_result"
    }
   ],
   "source": [
    "sentSubst = [subst_special(s) for s in original_sentences]\n",
    "sentSubst"
   ]
  },
  {
   "cell_type": "code",
   "execution_count": 22,
   "metadata": {},
   "outputs": [],
   "source": [
    "import pandas as pd\n",
    "from sklearn.feature_extraction.text import CountVectorizer\n",
    "cv = CountVectorizer()\n",
    "dfVec = pd.DataFrame(cv.fit_transform(sentSubst).toarray(), columns = cv.get_feature_names())"
   ]
  },
  {
   "cell_type": "code",
   "execution_count": 23,
   "metadata": {},
   "outputs": [
    {
     "data": {
      "text/html": [
       "<div>\n",
       "<style scoped>\n",
       "    .dataframe tbody tr th:only-of-type {\n",
       "        vertical-align: middle;\n",
       "    }\n",
       "\n",
       "    .dataframe tbody tr th {\n",
       "        vertical-align: top;\n",
       "    }\n",
       "\n",
       "    .dataframe thead th {\n",
       "        text-align: right;\n",
       "    }\n",
       "</style>\n",
       "<table border=\"1\" class=\"dataframe\">\n",
       "  <thead>\n",
       "    <tr style=\"text-align: right;\">\n",
       "      <th></th>\n",
       "      <th>are</th>\n",
       "      <th>at</th>\n",
       "      <th>fnid</th>\n",
       "      <th>forward</th>\n",
       "      <th>gold</th>\n",
       "      <th>like</th>\n",
       "      <th>me</th>\n",
       "      <th>move</th>\n",
       "      <th>please</th>\n",
       "      <th>right</th>\n",
       "      <th>...</th>\n",
       "      <th>some</th>\n",
       "      <th>spaces</th>\n",
       "      <th>sucky</th>\n",
       "      <th>to</th>\n",
       "      <th>where</th>\n",
       "      <th>xxcoordxx</th>\n",
       "      <th>xxnumberxx</th>\n",
       "      <th>xxqmarkxx</th>\n",
       "      <th>yo</th>\n",
       "      <th>you</th>\n",
       "    </tr>\n",
       "  </thead>\n",
       "  <tbody>\n",
       "    <tr>\n",
       "      <th>0</th>\n",
       "      <td>0</td>\n",
       "      <td>0</td>\n",
       "      <td>0</td>\n",
       "      <td>1</td>\n",
       "      <td>0</td>\n",
       "      <td>0</td>\n",
       "      <td>0</td>\n",
       "      <td>1</td>\n",
       "      <td>0</td>\n",
       "      <td>0</td>\n",
       "      <td>...</td>\n",
       "      <td>0</td>\n",
       "      <td>1</td>\n",
       "      <td>1</td>\n",
       "      <td>0</td>\n",
       "      <td>0</td>\n",
       "      <td>0</td>\n",
       "      <td>1</td>\n",
       "      <td>0</td>\n",
       "      <td>0</td>\n",
       "      <td>0</td>\n",
       "    </tr>\n",
       "    <tr>\n",
       "      <th>1</th>\n",
       "      <td>0</td>\n",
       "      <td>0</td>\n",
       "      <td>0</td>\n",
       "      <td>0</td>\n",
       "      <td>0</td>\n",
       "      <td>0</td>\n",
       "      <td>0</td>\n",
       "      <td>0</td>\n",
       "      <td>1</td>\n",
       "      <td>1</td>\n",
       "      <td>...</td>\n",
       "      <td>0</td>\n",
       "      <td>0</td>\n",
       "      <td>1</td>\n",
       "      <td>0</td>\n",
       "      <td>0</td>\n",
       "      <td>0</td>\n",
       "      <td>0</td>\n",
       "      <td>1</td>\n",
       "      <td>0</td>\n",
       "      <td>0</td>\n",
       "    </tr>\n",
       "    <tr>\n",
       "      <th>2</th>\n",
       "      <td>0</td>\n",
       "      <td>0</td>\n",
       "      <td>0</td>\n",
       "      <td>0</td>\n",
       "      <td>0</td>\n",
       "      <td>1</td>\n",
       "      <td>0</td>\n",
       "      <td>1</td>\n",
       "      <td>0</td>\n",
       "      <td>0</td>\n",
       "      <td>...</td>\n",
       "      <td>0</td>\n",
       "      <td>0</td>\n",
       "      <td>0</td>\n",
       "      <td>2</td>\n",
       "      <td>0</td>\n",
       "      <td>1</td>\n",
       "      <td>0</td>\n",
       "      <td>0</td>\n",
       "      <td>0</td>\n",
       "      <td>1</td>\n",
       "    </tr>\n",
       "    <tr>\n",
       "      <th>3</th>\n",
       "      <td>0</td>\n",
       "      <td>1</td>\n",
       "      <td>0</td>\n",
       "      <td>0</td>\n",
       "      <td>1</td>\n",
       "      <td>0</td>\n",
       "      <td>0</td>\n",
       "      <td>0</td>\n",
       "      <td>1</td>\n",
       "      <td>0</td>\n",
       "      <td>...</td>\n",
       "      <td>1</td>\n",
       "      <td>0</td>\n",
       "      <td>1</td>\n",
       "      <td>0</td>\n",
       "      <td>0</td>\n",
       "      <td>1</td>\n",
       "      <td>0</td>\n",
       "      <td>0</td>\n",
       "      <td>1</td>\n",
       "      <td>0</td>\n",
       "    </tr>\n",
       "    <tr>\n",
       "      <th>4</th>\n",
       "      <td>1</td>\n",
       "      <td>0</td>\n",
       "      <td>0</td>\n",
       "      <td>0</td>\n",
       "      <td>0</td>\n",
       "      <td>0</td>\n",
       "      <td>0</td>\n",
       "      <td>0</td>\n",
       "      <td>0</td>\n",
       "      <td>0</td>\n",
       "      <td>...</td>\n",
       "      <td>0</td>\n",
       "      <td>0</td>\n",
       "      <td>0</td>\n",
       "      <td>0</td>\n",
       "      <td>1</td>\n",
       "      <td>0</td>\n",
       "      <td>0</td>\n",
       "      <td>1</td>\n",
       "      <td>0</td>\n",
       "      <td>1</td>\n",
       "    </tr>\n",
       "  </tbody>\n",
       "</table>\n",
       "<p>5 rows × 21 columns</p>\n",
       "</div>"
      ],
      "text/plain": [
       "   are  at  fnid  forward  gold  like  me  move  please  right  ...  some  \\\n",
       "0    0   0     0        1     0     0   0     1       0      0  ...     0   \n",
       "1    0   0     0        0     0     0   0     0       1      1  ...     0   \n",
       "2    0   0     0        0     0     1   0     1       0      0  ...     0   \n",
       "3    0   1     0        0     1     0   0     0       1      0  ...     1   \n",
       "4    1   0     0        0     0     0   0     0       0      0  ...     0   \n",
       "\n",
       "   spaces  sucky  to  where  xxcoordxx  xxnumberxx  xxqmarkxx  yo  you  \n",
       "0       1      1   0      0          0           1          0   0    0  \n",
       "1       0      1   0      0          0           0          1   0    0  \n",
       "2       0      0   2      0          1           0          0   0    1  \n",
       "3       0      1   0      0          1           0          0   1    0  \n",
       "4       0      0   0      1          0           0          1   0    1  \n",
       "\n",
       "[5 rows x 21 columns]"
      ]
     },
     "execution_count": 23,
     "metadata": {},
     "output_type": "execute_result"
    }
   ],
   "source": [
    "dfVec.head()"
   ]
  },
  {
   "cell_type": "code",
   "execution_count": null,
   "metadata": {},
   "outputs": [],
   "source": []
  }
 ],
 "metadata": {
  "kernelspec": {
   "display_name": "Python 3 (ipykernel)",
   "language": "python",
   "name": "python3"
  },
  "language_info": {
   "codemirror_mode": {
    "name": "ipython",
    "version": 3
   },
   "file_extension": ".py",
   "mimetype": "text/x-python",
   "name": "python",
   "nbconvert_exporter": "python",
   "pygments_lexer": "ipython3",
   "version": "3.9.12"
  }
 },
 "nbformat": 4,
 "nbformat_minor": 2
}
