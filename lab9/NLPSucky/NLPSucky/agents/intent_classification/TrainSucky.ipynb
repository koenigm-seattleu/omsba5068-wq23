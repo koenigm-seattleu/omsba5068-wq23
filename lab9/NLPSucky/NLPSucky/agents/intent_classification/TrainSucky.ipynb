{
 "cells": [
  {
   "cell_type": "code",
   "execution_count": 57,
   "metadata": {},
   "outputs": [],
   "source": [
    "import pandas as pd"
   ]
  },
  {
   "cell_type": "code",
   "execution_count": 58,
   "metadata": {},
   "outputs": [],
   "source": [
    "# Data frame will have one line per training example, the label (intent classification) then text as a single string\n",
    "df = pd.read_csv('training_data.csv', names=[\"label\", \"text\"])"
   ]
  },
  {
   "cell_type": "code",
   "execution_count": 59,
   "metadata": {},
   "outputs": [
    {
     "data": {
      "text/plain": [
       "(108, 2)"
      ]
     },
     "execution_count": 59,
     "metadata": {},
     "output_type": "execute_result"
    }
   ],
   "source": [
    "df.shape"
   ]
  },
  {
   "cell_type": "code",
   "execution_count": 60,
   "metadata": {},
   "outputs": [
    {
     "data": {
      "text/html": [
       "<div>\n",
       "<style scoped>\n",
       "    .dataframe tbody tr th:only-of-type {\n",
       "        vertical-align: middle;\n",
       "    }\n",
       "\n",
       "    .dataframe tbody tr th {\n",
       "        vertical-align: top;\n",
       "    }\n",
       "\n",
       "    .dataframe thead th {\n",
       "        text-align: right;\n",
       "    }\n",
       "</style>\n",
       "<table border=\"1\" class=\"dataframe\">\n",
       "  <thead>\n",
       "    <tr style=\"text-align: right;\">\n",
       "      <th></th>\n",
       "      <th>label</th>\n",
       "      <th>text</th>\n",
       "    </tr>\n",
       "  </thead>\n",
       "  <tbody>\n",
       "    <tr>\n",
       "      <th>0</th>\n",
       "      <td>move_forward</td>\n",
       "      <td>sucky, move 3 spaces forward</td>\n",
       "    </tr>\n",
       "    <tr>\n",
       "      <th>1</th>\n",
       "      <td>move_forward</td>\n",
       "      <td>go forward 4 squares</td>\n",
       "    </tr>\n",
       "    <tr>\n",
       "      <th>2</th>\n",
       "      <td>move_forward</td>\n",
       "      <td>go 2 spaces forward</td>\n",
       "    </tr>\n",
       "    <tr>\n",
       "      <th>3</th>\n",
       "      <td>move_forward</td>\n",
       "      <td>move 3 spaces forward</td>\n",
       "    </tr>\n",
       "    <tr>\n",
       "      <th>4</th>\n",
       "      <td>move_forward</td>\n",
       "      <td>sucky, move yourself 4 spaces forward</td>\n",
       "    </tr>\n",
       "  </tbody>\n",
       "</table>\n",
       "</div>"
      ],
      "text/plain": [
       "          label                                   text\n",
       "0  move_forward           sucky, move 3 spaces forward\n",
       "1  move_forward                   go forward 4 squares\n",
       "2  move_forward                    go 2 spaces forward\n",
       "3  move_forward                  move 3 spaces forward\n",
       "4  move_forward  sucky, move yourself 4 spaces forward"
      ]
     },
     "execution_count": 60,
     "metadata": {},
     "output_type": "execute_result"
    }
   ],
   "source": [
    "df.head()"
   ]
  },
  {
   "cell_type": "code",
   "execution_count": 61,
   "metadata": {},
   "outputs": [
    {
     "data": {
      "text/plain": [
       "agent_info       17\n",
       "get_gold         16\n",
       "go_to            12\n",
       "go_home          10\n",
       "find_gold        10\n",
       "suck_dirt         8\n",
       "move_backward     7\n",
       "move_forward      7\n",
       "find_dirt         6\n",
       "turn_left         6\n",
       "turn_right        6\n",
       "turn_around       3\n",
       "Name: label, dtype: int64"
      ]
     },
     "execution_count": 61,
     "metadata": {},
     "output_type": "execute_result"
    }
   ],
   "source": [
    "df.label.value_counts()"
   ]
  },
  {
   "cell_type": "code",
   "execution_count": 62,
   "metadata": {},
   "outputs": [],
   "source": [
    "#  To recognize coordinates in the text, for example (2,5) and\n",
    "#  convert to a tuple\n",
    "\n",
    "from ast import literal_eval\n",
    "def to_coord(word):\n",
    "    try:\n",
    "        t = literal_eval(word)\n",
    "        if type(t) == tuple:\n",
    "            return t\n",
    "        return None\n",
    "    except:\n",
    "        return None\n",
    "    \n",
    "def is_coord(word):\n",
    "    return to_coord(word) != None"
   ]
  },
  {
   "cell_type": "code",
   "execution_count": 64,
   "metadata": {},
   "outputs": [
    {
     "name": "stdout",
     "output_type": "stream",
     "text": [
      "(3, 5)\n",
      "None\n"
     ]
    }
   ],
   "source": [
    "print(to_coord('(3,5)'))\n",
    "print(to_coord('abc'))"
   ]
  },
  {
   "cell_type": "code",
   "execution_count": 65,
   "metadata": {},
   "outputs": [],
   "source": [
    "# Three features of an input command that might be useful, but we can't do\n",
    "# in the vectorization phase\n",
    "#   1.  Does the command end with a question mark -- if so, maybe it's \n",
    "#        a request for information rather than a command to do something\n",
    "#   2.  Does the command contain at least one coordinate.  All the commands\n",
    "#        in the training set have either 0 or 1 coordinate, but for a richer\n",
    "#        command set, counting the number of coordinates might be useful\n",
    "#   3.  Does the command contain at least one number.  For simplicitly we're \n",
    "#        only detecting numbers as digit sequences, so \"three\" is not a number unfortunately\n",
    "\n",
    "df['ends_with_question'] = df.text.apply(lambda t: t[-1] == '?')\n",
    "df['words'] = df.text.apply(lambda s: s.split())\n",
    "df['has_coord'] = df.words.apply(lambda ww: True in [is_coord(w) for w in ww])\n",
    "df['has_number'] = df.words.apply(lambda ww: True in [w.isdigit() for w in ww])\n",
    "df.drop(columns='words', inplace=True)"
   ]
  },
  {
   "cell_type": "code",
   "execution_count": 66,
   "metadata": {},
   "outputs": [],
   "source": [
    "# Vectorize the training set -- input is the raw text for each training example\n",
    "#  and output is a vector with one element/column per term\n",
    "from sklearn.feature_extraction.text import CountVectorizer\n",
    "cv = CountVectorizer()\n",
    "dfVec = pd.DataFrame(cv.fit_transform(df['text']).toarray(), columns = cv.get_feature_names())\n"
   ]
  },
  {
   "cell_type": "code",
   "execution_count": 67,
   "metadata": {},
   "outputs": [
    {
     "data": {
      "text/html": [
       "<div>\n",
       "<style scoped>\n",
       "    .dataframe tbody tr th:only-of-type {\n",
       "        vertical-align: middle;\n",
       "    }\n",
       "\n",
       "    .dataframe tbody tr th {\n",
       "        vertical-align: top;\n",
       "    }\n",
       "\n",
       "    .dataframe thead th {\n",
       "        text-align: right;\n",
       "    }\n",
       "</style>\n",
       "<table border=\"1\" class=\"dataframe\">\n",
       "  <thead>\n",
       "    <tr style=\"text-align: right;\">\n",
       "      <th></th>\n",
       "      <th>and</th>\n",
       "      <th>any</th>\n",
       "      <th>anywhere</th>\n",
       "      <th>are</th>\n",
       "      <th>around</th>\n",
       "      <th>at</th>\n",
       "      <th>back</th>\n",
       "      <th>backward</th>\n",
       "      <th>backwards</th>\n",
       "      <th>base</th>\n",
       "      <th>...</th>\n",
       "      <th>travel</th>\n",
       "      <th>turn</th>\n",
       "      <th>up</th>\n",
       "      <th>want</th>\n",
       "      <th>what</th>\n",
       "      <th>where</th>\n",
       "      <th>yo</th>\n",
       "      <th>you</th>\n",
       "      <th>your</th>\n",
       "      <th>yourself</th>\n",
       "    </tr>\n",
       "  </thead>\n",
       "  <tbody>\n",
       "    <tr>\n",
       "      <th>0</th>\n",
       "      <td>0</td>\n",
       "      <td>0</td>\n",
       "      <td>0</td>\n",
       "      <td>0</td>\n",
       "      <td>0</td>\n",
       "      <td>0</td>\n",
       "      <td>0</td>\n",
       "      <td>0</td>\n",
       "      <td>0</td>\n",
       "      <td>0</td>\n",
       "      <td>...</td>\n",
       "      <td>0</td>\n",
       "      <td>0</td>\n",
       "      <td>0</td>\n",
       "      <td>0</td>\n",
       "      <td>0</td>\n",
       "      <td>0</td>\n",
       "      <td>0</td>\n",
       "      <td>0</td>\n",
       "      <td>0</td>\n",
       "      <td>0</td>\n",
       "    </tr>\n",
       "    <tr>\n",
       "      <th>1</th>\n",
       "      <td>0</td>\n",
       "      <td>0</td>\n",
       "      <td>0</td>\n",
       "      <td>0</td>\n",
       "      <td>0</td>\n",
       "      <td>0</td>\n",
       "      <td>0</td>\n",
       "      <td>0</td>\n",
       "      <td>0</td>\n",
       "      <td>0</td>\n",
       "      <td>...</td>\n",
       "      <td>0</td>\n",
       "      <td>0</td>\n",
       "      <td>0</td>\n",
       "      <td>0</td>\n",
       "      <td>0</td>\n",
       "      <td>0</td>\n",
       "      <td>0</td>\n",
       "      <td>0</td>\n",
       "      <td>0</td>\n",
       "      <td>0</td>\n",
       "    </tr>\n",
       "    <tr>\n",
       "      <th>2</th>\n",
       "      <td>0</td>\n",
       "      <td>0</td>\n",
       "      <td>0</td>\n",
       "      <td>0</td>\n",
       "      <td>0</td>\n",
       "      <td>0</td>\n",
       "      <td>0</td>\n",
       "      <td>0</td>\n",
       "      <td>0</td>\n",
       "      <td>0</td>\n",
       "      <td>...</td>\n",
       "      <td>0</td>\n",
       "      <td>0</td>\n",
       "      <td>0</td>\n",
       "      <td>0</td>\n",
       "      <td>0</td>\n",
       "      <td>0</td>\n",
       "      <td>0</td>\n",
       "      <td>0</td>\n",
       "      <td>0</td>\n",
       "      <td>0</td>\n",
       "    </tr>\n",
       "    <tr>\n",
       "      <th>3</th>\n",
       "      <td>0</td>\n",
       "      <td>0</td>\n",
       "      <td>0</td>\n",
       "      <td>0</td>\n",
       "      <td>0</td>\n",
       "      <td>0</td>\n",
       "      <td>0</td>\n",
       "      <td>0</td>\n",
       "      <td>0</td>\n",
       "      <td>0</td>\n",
       "      <td>...</td>\n",
       "      <td>0</td>\n",
       "      <td>0</td>\n",
       "      <td>0</td>\n",
       "      <td>0</td>\n",
       "      <td>0</td>\n",
       "      <td>0</td>\n",
       "      <td>0</td>\n",
       "      <td>0</td>\n",
       "      <td>0</td>\n",
       "      <td>0</td>\n",
       "    </tr>\n",
       "    <tr>\n",
       "      <th>4</th>\n",
       "      <td>0</td>\n",
       "      <td>0</td>\n",
       "      <td>0</td>\n",
       "      <td>0</td>\n",
       "      <td>0</td>\n",
       "      <td>0</td>\n",
       "      <td>0</td>\n",
       "      <td>0</td>\n",
       "      <td>0</td>\n",
       "      <td>0</td>\n",
       "      <td>...</td>\n",
       "      <td>0</td>\n",
       "      <td>0</td>\n",
       "      <td>0</td>\n",
       "      <td>0</td>\n",
       "      <td>0</td>\n",
       "      <td>0</td>\n",
       "      <td>0</td>\n",
       "      <td>0</td>\n",
       "      <td>0</td>\n",
       "      <td>1</td>\n",
       "    </tr>\n",
       "  </tbody>\n",
       "</table>\n",
       "<p>5 rows × 69 columns</p>\n",
       "</div>"
      ],
      "text/plain": [
       "   and  any  anywhere  are  around  at  back  backward  backwards  base  ...  \\\n",
       "0    0    0         0    0       0   0     0         0          0     0  ...   \n",
       "1    0    0         0    0       0   0     0         0          0     0  ...   \n",
       "2    0    0         0    0       0   0     0         0          0     0  ...   \n",
       "3    0    0         0    0       0   0     0         0          0     0  ...   \n",
       "4    0    0         0    0       0   0     0         0          0     0  ...   \n",
       "\n",
       "   travel  turn  up  want  what  where  yo  you  your  yourself  \n",
       "0       0     0   0     0     0      0   0    0     0         0  \n",
       "1       0     0   0     0     0      0   0    0     0         0  \n",
       "2       0     0   0     0     0      0   0    0     0         0  \n",
       "3       0     0   0     0     0      0   0    0     0         0  \n",
       "4       0     0   0     0     0      0   0    0     0         1  \n",
       "\n",
       "[5 rows x 69 columns]"
      ]
     },
     "execution_count": 67,
     "metadata": {},
     "output_type": "execute_result"
    }
   ],
   "source": [
    "dfVec.head()"
   ]
  },
  {
   "cell_type": "code",
   "execution_count": 68,
   "metadata": {},
   "outputs": [],
   "source": [
    "# Concatenate our three non-vectorized features and split into X (the input)\n",
    "# and y (the 'correct' classification).   X is capitalized because it is a matrix, \n",
    "# y is a vector.   y must have the same number of elements as the number of rows in X.\n",
    "\n",
    "dfVectorized = pd.concat([df, dfVec], axis=1)\n",
    "X = dfVectorized.drop(columns=['label', 'text'])\n",
    "y = dfVectorized['label']"
   ]
  },
  {
   "cell_type": "code",
   "execution_count": 69,
   "metadata": {},
   "outputs": [],
   "source": [
    "# It's important to measure the classifier's accuracy on data it has not seen\n",
    "# before.  So we break our X and y into a \"training set\" and a \"test set\"\n",
    "# We train the classifier on the training set then evaluate its accuracy on \n",
    "# the test set.   \n",
    "#\n",
    "# This training set is too small for comfort (approx 100 cases). If we take away 10%, we're only \n",
    "# testing on 10 examples, which is probably too small to get good coverage of all the commands\n",
    "# the agent will be seeing in practice\n",
    "\n",
    "from sklearn.model_selection import train_test_split\n",
    "X_train, X_test, y_train, y_test = train_test_split(X, y, test_size=0.1)"
   ]
  },
  {
   "cell_type": "code",
   "execution_count": 73,
   "metadata": {},
   "outputs": [
    {
     "name": "stdout",
     "output_type": "stream",
     "text": [
      "(97, 72)\n",
      "(97,)\n",
      "(11, 72)\n",
      "(11,)\n"
     ]
    }
   ],
   "source": [
    "print(X_train.shape)\n",
    "print(y_train.shape)\n",
    "print(X_test.shape)\n",
    "print(y_test.shape)"
   ]
  },
  {
   "cell_type": "code",
   "execution_count": 74,
   "metadata": {},
   "outputs": [
    {
     "data": {
      "text/plain": [
       "MultinomialNB(alpha=1.0, class_prior=None, fit_prior=True)"
      ]
     },
     "execution_count": 74,
     "metadata": {},
     "output_type": "execute_result"
    }
   ],
   "source": [
    "# This is our classifier -- we show it the training set only\n",
    "from sklearn.naive_bayes import MultinomialNB\n",
    "nb = MultinomialNB()\n",
    "nb.fit(X_train, y_train)"
   ]
  },
  {
   "cell_type": "code",
   "execution_count": 77,
   "metadata": {},
   "outputs": [
    {
     "name": "stdout",
     "output_type": "stream",
     "text": [
      "['move_forward' 'get_gold' 'move_backward' 'turn_right' 'turn_right'\n",
      " 'get_gold' 'find_gold' 'move_forward' 'turn_left' 'go_to' 'go_to']\n"
     ]
    }
   ],
   "source": [
    "# Prediction on the test set.  Each of these is a \"class label\"\n",
    "# from the training set -- in our case the class label is the intent prediction\n",
    "print(nb.predict(X_test))"
   ]
  },
  {
   "cell_type": "code",
   "execution_count": 78,
   "metadata": {},
   "outputs": [
    {
     "data": {
      "text/plain": [
       "0.9090909090909091"
      ]
     },
     "execution_count": 78,
     "metadata": {},
     "output_type": "execute_result"
    }
   ],
   "source": [
    "# Now compute the accuracy of the classifier on the test set\n",
    "# The accuracy is just the percentage of the time the classifier\n",
    "#  prediction agrees with th e case label\n",
    "from sklearn.metrics import accuracy_score\n",
    "accuracy_score(y_test, nb.predict(X_test))"
   ]
  },
  {
   "cell_type": "code",
   "execution_count": 79,
   "metadata": {},
   "outputs": [
    {
     "data": {
      "text/html": [
       "<div>\n",
       "<style scoped>\n",
       "    .dataframe tbody tr th:only-of-type {\n",
       "        vertical-align: middle;\n",
       "    }\n",
       "\n",
       "    .dataframe tbody tr th {\n",
       "        vertical-align: top;\n",
       "    }\n",
       "\n",
       "    .dataframe thead th {\n",
       "        text-align: right;\n",
       "    }\n",
       "</style>\n",
       "<table border=\"1\" class=\"dataframe\">\n",
       "  <thead>\n",
       "    <tr style=\"text-align: right;\">\n",
       "      <th></th>\n",
       "      <th>label</th>\n",
       "      <th>text</th>\n",
       "      <th>ends_with_question</th>\n",
       "      <th>has_coord</th>\n",
       "      <th>has_number</th>\n",
       "      <th>predicted</th>\n",
       "    </tr>\n",
       "  </thead>\n",
       "  <tbody>\n",
       "    <tr>\n",
       "      <th>87</th>\n",
       "      <td>find_dirt</td>\n",
       "      <td>where is some dirt</td>\n",
       "      <td>False</td>\n",
       "      <td>False</td>\n",
       "      <td>False</td>\n",
       "      <td>find_gold</td>\n",
       "    </tr>\n",
       "  </tbody>\n",
       "</table>\n",
       "</div>"
      ],
      "text/plain": [
       "        label                text  ends_with_question  has_coord  has_number  \\\n",
       "87  find_dirt  where is some dirt               False      False       False   \n",
       "\n",
       "    predicted  \n",
       "87  find_gold  "
      ]
     },
     "execution_count": 79,
     "metadata": {},
     "output_type": "execute_result"
    }
   ],
   "source": [
    "# Want to see cases where the prediction was wrong\n",
    "df['predicted'] = nb.predict(X)\n",
    "df[df.predicted != df.label]"
   ]
  },
  {
   "cell_type": "code",
   "execution_count": 80,
   "metadata": {},
   "outputs": [
    {
     "data": {
      "text/plain": [
       "MultinomialNB(alpha=1.0, class_prior=None, fit_prior=True)"
      ]
     },
     "execution_count": 80,
     "metadata": {},
     "output_type": "execute_result"
    }
   ],
   "source": [
    "# Right before exporting, train the classifier on the whole\n",
    "# data set, not just the test set.\n",
    "nb.fit(X, y)"
   ]
  },
  {
   "cell_type": "code",
   "execution_count": 81,
   "metadata": {},
   "outputs": [],
   "source": [
    "# We need to save both the classifier and the vectorizer, since\n",
    "# when we get a command text input, we need to prepare it for the \n",
    "# classifier the same way we prepared the test data.  \n",
    "\n",
    "# Note file location is important -- the file commandprocessorml.py looks\n",
    "# for the models in a subfolder agents/intent_classifier which is relative\n",
    "# to the root of the code tree\n",
    "import pickle\n",
    "pickle.dump(nb, open('classifier.sav', 'wb'))\n",
    "pickle.dump(cv, open('vectorizer.sav', 'wb'))"
   ]
  }
 ],
 "metadata": {
  "kernelspec": {
   "display_name": "Python 3",
   "language": "python",
   "name": "python3"
  },
  "language_info": {
   "codemirror_mode": {
    "name": "ipython",
    "version": 3
   },
   "file_extension": ".py",
   "mimetype": "text/x-python",
   "name": "python",
   "nbconvert_exporter": "python",
   "pygments_lexer": "ipython3",
   "version": "3.7.0"
  }
 },
 "nbformat": 4,
 "nbformat_minor": 2
}
