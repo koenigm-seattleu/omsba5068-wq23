{
 "cells": [
  {
   "cell_type": "markdown",
   "metadata": {},
   "source": [
    "#### PyDatalog Demo for OSMBA5068\n",
    "\n",
    "https://sites.google.com/site/pydatalog/home\n"
   ]
  },
  {
   "cell_type": "code",
   "execution_count": 1,
   "metadata": {},
   "outputs": [],
   "source": [
    "from pyDatalog import pyDatalog"
   ]
  },
  {
   "cell_type": "markdown",
   "metadata": {},
   "source": [
    "#### Example 1 -- Assert some facts\n",
    "\n",
    "Remember, our main components are\n",
    "* predicates\n",
    "* constants\n",
    "* variables\n",
    "* facts\n",
    "* rules\n",
    "\n",
    "For example, \n",
    "* American(West)   -- A predicate and a constant and a fact\n",
    "* Weapon(X) <- Missle(X) -- A predicate and a variable and a rule\n",
    "\n",
    "Pydatalog\n",
    "* Variables upper-case, predicates lower case, constants are any Python object\n",
    "* Predicates and variables (terms) are declared ahead of time"
   ]
  },
  {
   "cell_type": "code",
   "execution_count": 2,
   "metadata": {},
   "outputs": [],
   "source": [
    "pyDatalog.create_terms('foo, bar, X, Y')\n",
    "+foo(\"a\")\n",
    "+foo(2)\n",
    "+bar([1,2,3])\n",
    "+bar(\"a\")"
   ]
  },
  {
   "cell_type": "code",
   "execution_count": 3,
   "metadata": {},
   "outputs": [
    {
     "name": "stdout",
     "output_type": "stream",
     "text": [
      "X\n",
      "-\n",
      "2\n",
      "a\n"
     ]
    }
   ],
   "source": [
    "print(foo(X))"
   ]
  },
  {
   "cell_type": "code",
   "execution_count": 4,
   "metadata": {},
   "outputs": [
    {
     "name": "stdout",
     "output_type": "stream",
     "text": [
      "X\n",
      "-\n",
      "a\n"
     ]
    }
   ],
   "source": [
    "print(foo(X) & bar(X))"
   ]
  },
  {
   "cell_type": "code",
   "execution_count": 5,
   "metadata": {},
   "outputs": [
    {
     "data": {
      "text/plain": [
       "[('a',), ((1, 2, 3),)]"
      ]
     },
     "execution_count": 5,
     "metadata": {},
     "output_type": "execute_result"
    }
   ],
   "source": [
    "bar(X)"
   ]
  },
  {
   "cell_type": "code",
   "execution_count": 6,
   "metadata": {},
   "outputs": [
    {
     "name": "stdout",
     "output_type": "stream",
     "text": [
      "X | Y        \n",
      "--|----------\n",
      "2 | a        \n",
      "2 | (1, 2, 3)\n",
      "a | (1, 2, 3)\n",
      "a | a        \n"
     ]
    }
   ],
   "source": [
    "print(foo(X) & bar(Y))"
   ]
  },
  {
   "cell_type": "code",
   "execution_count": 7,
   "metadata": {},
   "outputs": [
    {
     "data": {
      "text/plain": [
       "pyDatalog.pyParser.Answer"
      ]
     },
     "execution_count": 7,
     "metadata": {},
     "output_type": "execute_result"
    }
   ],
   "source": [
    "query = pyDatalog.ask('foo(X) & bar(Y)')\n",
    "type(query)"
   ]
  },
  {
   "cell_type": "code",
   "execution_count": 8,
   "metadata": {},
   "outputs": [
    {
     "data": {
      "text/plain": [
       "[(2, 'a'), (2, (1, 2, 3)), ('a', (1, 2, 3)), ('a', 'a')]"
      ]
     },
     "execution_count": 8,
     "metadata": {},
     "output_type": "execute_result"
    }
   ],
   "source": [
    "query.answers"
   ]
  },
  {
   "cell_type": "code",
   "execution_count": 9,
   "metadata": {},
   "outputs": [],
   "source": [
    "pyDatalog.clear()\n",
    "pyDatalog.create_terms('foo, bar, X, Y, Z')\n",
    "pyDatalog.assert_fact('foo', \"a\")\n",
    "pyDatalog.assert_fact('bar', 1, \"two\", 3)"
   ]
  },
  {
   "cell_type": "code",
   "execution_count": 10,
   "metadata": {},
   "outputs": [
    {
     "data": {
      "text/plain": [
       "[(1, 'two', 3)]"
      ]
     },
     "execution_count": 10,
     "metadata": {},
     "output_type": "execute_result"
    }
   ],
   "source": [
    "bar(X, Y, Z)"
   ]
  },
  {
   "cell_type": "markdown",
   "metadata": {},
   "source": [
    "####  Assert some facts and rules\n"
   ]
  },
  {
   "cell_type": "code",
   "execution_count": 16,
   "metadata": {},
   "outputs": [],
   "source": [
    "pyDatalog.clear()\n",
    "pyDatalog.create_terms('mortal, person, foo, X')\n",
    "\n",
    "mortal(X) <= person(X) & foo(X)\n",
    "+mortal('plato')\n",
    "\n",
    "+person('socrates')\n",
    "+person('aristotle')\n",
    "\n",
    "+foo(\"nobody\")"
   ]
  },
  {
   "cell_type": "code",
   "execution_count": 17,
   "metadata": {},
   "outputs": [
    {
     "data": {
      "text/plain": [
       "[('plato',)]"
      ]
     },
     "execution_count": 17,
     "metadata": {},
     "output_type": "execute_result"
    }
   ],
   "source": [
    "mortal(X)"
   ]
  },
  {
   "cell_type": "markdown",
   "metadata": {},
   "source": [
    "#### Emphasis:  variables \"enforce equality\""
   ]
  },
  {
   "cell_type": "code",
   "execution_count": 22,
   "metadata": {},
   "outputs": [
    {
     "name": "stdout",
     "output_type": "stream",
     "text": [
      "Z     | W    \n",
      "------|------\n",
      "eric  | sarah\n",
      "sarah | eric \n"
     ]
    }
   ],
   "source": [
    "pyDatalog.clear()\n",
    "pyDatalog.create_terms('father, sibling, X, Y, F')\n",
    "\n",
    "+father('dale', 'sarah')\n",
    "+father('dale', 'eric')\n",
    "+father('richard', 'garrett')\n",
    "\n",
    "sibling(X, Y) <=  father(F, X) & father(F, Y) & (X != Y)\n",
    "\n",
    "pyDatalog.create_terms('Z,W')\n",
    "print(sibling(Z, W))"
   ]
  },
  {
   "cell_type": "markdown",
   "metadata": {},
   "source": [
    "#### Two examples from class"
   ]
  },
  {
   "cell_type": "code",
   "execution_count": 23,
   "metadata": {},
   "outputs": [
    {
     "name": "stdout",
     "output_type": "stream",
     "text": [
      "[()]\n",
      "[]\n"
     ]
    },
    {
     "data": {
      "text/plain": [
       "[('Fred',)]"
      ]
     },
     "execution_count": 23,
     "metadata": {},
     "output_type": "execute_result"
    }
   ],
   "source": [
    "pyDatalog.clear()\n",
    "pyDatalog.create_terms('happy, healthy, wealthy, wise, X')\n",
    "\n",
    "happy(X) <= healthy(X) & wealthy(X)\n",
    "happy(X) <= wise(X)\n",
    "\n",
    "+healthy(\"Fred\")\n",
    "+wise(\"Fred\")\n",
    "\n",
    "+wealthy(\"Nobody\")   # Oddly necessary!\n",
    "\n",
    "print(happy(\"Fred\"))\n",
    "print(happy(\"Nobody\"))\n",
    "happy(X)"
   ]
  },
  {
   "cell_type": "code",
   "execution_count": 24,
   "metadata": {},
   "outputs": [
    {
     "name": "stdout",
     "output_type": "stream",
     "text": [
      "X   \n",
      "----\n",
      "West\n"
     ]
    }
   ],
   "source": [
    "pyDatalog.clear()\n",
    "pyDatalog.create_terms('criminal, american, weapon, sells, hostile, owns, missile, enemy')\n",
    "pyDatalog.create_terms('X, Y, Z')\n",
    "\n",
    "criminal(X) <= american(X) & weapon(Y) & sells(X,Y,Z), hostile(Z)\n",
    "\n",
    "sells('West', X, 'Nono') <= missile(X) & owns('Nono', X)\n",
    "\n",
    "weapon(X) <= missile(X)\n",
    "hostile(X, 'America') <= enemy(X, 'America')\n",
    "+owns('Nono', 'M1')\n",
    "+missile('M1')\n",
    "+american('West')\n",
    "+enemy('Nono', 'America')\n",
    "\n",
    "print(criminal(X))"
   ]
  },
  {
   "cell_type": "code",
   "execution_count": 25,
   "metadata": {},
   "outputs": [
    {
     "name": "stdout",
     "output_type": "stream",
     "text": [
      "X    | Y  | Z   \n",
      "-----|----|-----\n",
      "West | M1 | Nono\n"
     ]
    }
   ],
   "source": [
    "print(sells(X,Y,Z))"
   ]
  },
  {
   "cell_type": "code",
   "execution_count": 26,
   "metadata": {},
   "outputs": [
    {
     "data": {
      "text/plain": [
       "[('West',)]"
      ]
     },
     "execution_count": 26,
     "metadata": {},
     "output_type": "execute_result"
    }
   ],
   "source": [
    "american(X)"
   ]
  },
  {
   "cell_type": "markdown",
   "metadata": {},
   "source": [
    "####  Last example, factorial\n",
    "\n",
    "* Working with numbers\n",
    "* Example of a \"function\" that \"returns a result\"\n",
    "\n",
    "Python implementation:\n",
    "```\n",
    "def factorial(x):\n",
    "  if x < 0:\n",
    "    return None\n",
    "  elif x <= 1:\n",
    "    return 1\n",
    "  else:\n",
    "    z = x * factorial(x-1)\n",
    "\treturn z\n",
    "```\n"
   ]
  },
  {
   "cell_type": "code",
   "execution_count": 34,
   "metadata": {},
   "outputs": [
    {
     "data": {
      "text/plain": [
       "factorial(X,Z) <= >(X,'1')&==(Y,(X-'1'))&factorial"
      ]
     },
     "execution_count": 34,
     "metadata": {},
     "output_type": "execute_result"
    }
   ],
   "source": [
    "from pyDatalog import pyDatalog\n",
    "pyDatalog.clear()\n",
    "pyDatalog.create_terms('factorial, X, Z, Y, Q')\n",
    "\n",
    "factorial(X, None) <= (X < 0)\n",
    "factorial(X, 1) <= (X <= 1) & (X > 0)\n",
    "factorial(X, Z) <= (X > 1) & (Y == X-1) & factorial(Y, Q) & (Q * X == Z)"
   ]
  },
  {
   "cell_type": "code",
   "execution_count": 31,
   "metadata": {},
   "outputs": [
    {
     "name": "stdout",
     "output_type": "stream",
     "text": [
      "X   \n",
      "----\n",
      "None\n"
     ]
    }
   ],
   "source": [
    "print(factorial(-1, X))"
   ]
  },
  {
   "cell_type": "code",
   "execution_count": 32,
   "metadata": {},
   "outputs": [
    {
     "data": {
      "text/plain": [
       "[(3628800,)]"
      ]
     },
     "execution_count": 32,
     "metadata": {},
     "output_type": "execute_result"
    }
   ],
   "source": [
    "factorial(10, Z)"
   ]
  },
  {
   "cell_type": "code",
   "execution_count": 36,
   "metadata": {},
   "outputs": [
    {
     "data": {
      "text/plain": [
       "[(6,)]"
      ]
     },
     "execution_count": 36,
     "metadata": {},
     "output_type": "execute_result"
    }
   ],
   "source": [
    "factorial(3,Q)"
   ]
  },
  {
   "cell_type": "code",
   "execution_count": 30,
   "metadata": {},
   "outputs": [
    {
     "data": {
      "text/plain": [
       "[(None,)]"
      ]
     },
     "execution_count": 30,
     "metadata": {},
     "output_type": "execute_result"
    }
   ],
   "source": [
    "factorial(-1, Z)"
   ]
  },
  {
   "cell_type": "code",
   "execution_count": null,
   "metadata": {},
   "outputs": [],
   "source": []
  }
 ],
 "metadata": {
  "kernelspec": {
   "display_name": "Python 3 (ipykernel)",
   "language": "python",
   "name": "python3"
  },
  "language_info": {
   "codemirror_mode": {
    "name": "ipython",
    "version": 3
   },
   "file_extension": ".py",
   "mimetype": "text/x-python",
   "name": "python",
   "nbconvert_exporter": "python",
   "pygments_lexer": "ipython3",
   "version": "3.9.12"
  }
 },
 "nbformat": 4,
 "nbformat_minor": 2
}
