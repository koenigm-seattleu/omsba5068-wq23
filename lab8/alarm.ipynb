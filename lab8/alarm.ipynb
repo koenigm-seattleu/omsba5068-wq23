{
 "cells": [
  {
   "cell_type": "markdown",
   "metadata": {},
   "source": [
    "### Bayesian Network Inference Library\n",
    "\n",
    "We will be using the pomegranate library for Bayes Net inference\n",
    "\n",
    "  * Installation instructions https://pomegranate.readthedocs.io/en/latest/install.html\n",
    "  * Tutorial / documentation https://pomegranate.readthedocs.io/en/latest/BayesianNetwork.html\n",
    "  \n",
    "In the tutorial / documentation, ignore the parts about \"initializing a Bayesian network based completely on data\" and the sections on \"Probability\" \"Prediction\" and \"Fitting\" -- see the example below on how to determine the probability distribution on a node in the graph based on evidence.\n",
    "\n",
    "\n",
    "In the cell below is the \"alarm network\" example from the class slides."
   ]
  },
  {
   "cell_type": "markdown",
   "metadata": {},
   "source": [
    "![Alarm](alarm.GIF)"
   ]
  },
  {
   "cell_type": "code",
   "execution_count": null,
   "metadata": {},
   "outputs": [],
   "source": [
    "# In this cell put the code to build and bake your model.\n",
    "# This cell just defines the network, it does not generate any output"
   ]
  },
  {
   "cell_type": "code",
   "execution_count": null,
   "metadata": {},
   "outputs": [],
   "source": [
    "# Compute and print the probability that there is an earthquake, based on no evidence"
   ]
  },
  {
   "cell_type": "code",
   "execution_count": null,
   "metadata": {},
   "outputs": [],
   "source": [
    "# Based on no more evidence, what is the likelihood that the alarm goes off\n",
    "# Simply compute and print print the probability"
   ]
  },
  {
   "cell_type": "code",
   "execution_count": null,
   "metadata": {},
   "outputs": [],
   "source": [
    "##  Suppose you get a call from Mary but not John, what is the probability\n",
    "##  that there was an earthquarke.  This cell should compute and print that\n",
    "##  probability."
   ]
  },
  {
   "cell_type": "code",
   "execution_count": null,
   "metadata": {},
   "outputs": [],
   "source": [
    "# Compute and print the probability that the alarm went off and there was a burglary, \n",
    "# given that both John and Mary called\n"
   ]
  },
  {
   "cell_type": "code",
   "execution_count": null,
   "metadata": {},
   "outputs": [],
   "source": [
    "## Compute and print the probability that there was an earthquake OR a burglary given no evidence\n",
    "# Your code here"
   ]
  },
  {
   "cell_type": "code",
   "execution_count": null,
   "metadata": {},
   "outputs": [],
   "source": [
    "## How much does your belief that there was an earthquake change on the basis of getting \n",
    "## a call from John but not Mary.   Compute that change and print it as a percentage.\n"
   ]
  },
  {
   "cell_type": "code",
   "execution_count": null,
   "metadata": {},
   "outputs": [],
   "source": []
  }
 ],
 "metadata": {
  "kernelspec": {
   "display_name": "Python 3 (ipykernel)",
   "language": "python",
   "name": "python3"
  },
  "language_info": {
   "codemirror_mode": {
    "name": "ipython",
    "version": 3
   },
   "file_extension": ".py",
   "mimetype": "text/x-python",
   "name": "python",
   "nbconvert_exporter": "python",
   "pygments_lexer": "ipython3",
   "version": "3.9.12"
  }
 },
 "nbformat": 4,
 "nbformat_minor": 2
}
