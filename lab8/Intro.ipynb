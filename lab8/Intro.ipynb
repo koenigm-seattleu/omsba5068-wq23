{
 "cells": [
  {
   "cell_type": "markdown",
   "metadata": {},
   "source": [
    "### Bayesian Network Inference Library\n",
    "\n",
    "We will be using the pomegranate library for Bayes Net inference\n",
    "\n",
    "  * Installation instructions https://pomegranate.readthedocs.io/en/latest/install.html\n",
    "  * Tutorial / documentation https://pomegranate.readthedocs.io/en/latest/BayesianNetwork.html\n",
    "  \n",
    "In the tutorial / documentation, ignore the parts about \"initializing a Bayesian network based completely on data\" and the sections on \"Probability\" \"Prediction\" and \"Fitting\" -- see the example below on how to determine the probability distribution on a node in the graph based on evidence.\n",
    "\n",
    "Just to make sure things are working, first load in the Monty Hall code from the tutorial and answer the question about whether or not a contestant should take Monty up on his offer to switch doors.\n",
    "\n",
    "The Monty Hall problem:  \n",
    "  * A prize is placed randomly between door A or door B or door C\n",
    "  * The guest chooses one of those three doors\n",
    "  * Monty then reveals whether or not one of the other doors contains the prize\n",
    "     * Monty will never reveal the door that the guest chooses\n",
    "     * Monty will nevery reveal the door with the prize\n",
    "  * Monty gives the guest the chance to change choices to the door that Monty didn't reveal\n",
    "     \n",
    "Suppose for example the guest chooses door A.  Monty then reveals that door B does not contain the prize.  Which is the case:\n",
    "\n",
    "  * This information is of no use to the guest.  It is now equally likely that the prize is behind A and behind C.  Therefore the guest has no incentive to change from A to C\n",
    "  * It is now more likely that the prize is behind C, so the guest should switch to C\n",
    "  * It is now more likely that the prize is behind A, so the guest should not switch\n"
   ]
  },
  {
   "cell_type": "markdown",
   "metadata": {},
   "source": [
    "---------------------------------------\n",
    "\n",
    "![Monty](MontyPicture.GIF)\n",
    "\n",
    "---------------------------------------"
   ]
  },
  {
   "cell_type": "code",
   "execution_count": null,
   "metadata": {},
   "outputs": [],
   "source": [
    "from pomegranate import *\n",
    "\n",
    "# The three \"random variables\" are\n",
    "#    guest -- what door will the guest choose -- doors are A, B, and C\n",
    "#    prize -- what door is the prize behind\n",
    "#    monty -- what door will Monty open.  This is a function of both guest and prize:\n",
    "#               Monty will never open the door the guest chooses and will never open the \n",
    "#               door with the prize (if the guest doesn't choose it)\n",
    "#             So the first three lines of the CPT below say the guest chooses A and \n",
    "#               the prize is behind A, and then Monty will choose B or C with equal probability\n",
    "\n",
    "# Notice the pattern of building networks:  \n",
    "#   -- build your distributions -- either DiscreteDistribution for nodes without parents\n",
    "#          or ConditionalProbabilityTable for nodes with parents.  The CPT for Monty needs 27 \n",
    "#          entries, since there are 9 possible combination of parent values, and three possible\n",
    "#          values the monty random variable can take.\n",
    "\n",
    "guestdist = DiscreteDistribution({'A': 1./3, 'B': 1./3, 'C': 1./3})\n",
    "prizedist = DiscreteDistribution({'A': 1./3, 'B': 1./3, 'C': 1./3})\n",
    "montydist = ConditionalProbabilityTable(\n",
    "        [['A', 'A', 'A', 0.0],\n",
    "         ['A', 'A', 'B', 0.5],\n",
    "         ['A', 'A', 'C', 0.5],\n",
    "         \n",
    "         ['A', 'B', 'A', 0.0],\n",
    "         ['A', 'B', 'B', 0.0],\n",
    "         ['A', 'B', 'C', 1.0],\n",
    "         \n",
    "         ['A', 'C', 'A', 0.0],\n",
    "         ['A', 'C', 'B', 1.0],\n",
    "         ['A', 'C', 'C', 0.0],\n",
    "         \n",
    "         ['B', 'A', 'A', 0.0],\n",
    "         ['B', 'A', 'B', 0.0],\n",
    "         ['B', 'A', 'C', 1.0],\n",
    "         \n",
    "         ['B', 'B', 'A', 0.5],\n",
    "         ['B', 'B', 'B', 0.0],\n",
    "         ['B', 'B', 'C', 0.5],\n",
    "         \n",
    "         ['B', 'C', 'A', 1.0],\n",
    "         ['B', 'C', 'B', 0.0],\n",
    "         ['B', 'C', 'C', 0.0],\n",
    "         \n",
    "         ['C', 'A', 'A', 0.0],\n",
    "         ['C', 'A', 'B', 1.0],\n",
    "         ['C', 'A', 'C', 0.0],\n",
    "         \n",
    "         ['C', 'B', 'A', 1.0],\n",
    "         ['C', 'B', 'B', 0.0],\n",
    "         ['C', 'B', 'C', 0.0],\n",
    "         \n",
    "         ['C', 'C', 'A', 0.5],\n",
    "         ['C', 'C', 'B', 0.5],\n",
    "         ['C', 'C', 'C', 0.0]], [guestdist, prizedist])\n",
    "\n",
    "s1 = Node(guestdist, name=\"guest\")\n",
    "s2 = Node(prizedist, name=\"prize\")\n",
    "s3 = Node(montydist, name=\"monty\")\n",
    "\n",
    "model = BayesianNetwork(\"Monty Hall Problem\")\n",
    "model.add_states(s1, s2, s3)\n",
    "model.add_edge(s1, s3)\n",
    "model.add_edge(s2, s3)\n",
    "model.bake()"
   ]
  },
  {
   "cell_type": "code",
   "execution_count": null,
   "metadata": {},
   "outputs": [],
   "source": [
    "# Based on no more evidence, what is the likelihood that the contestant will win the prize?\n",
    "model.predict_proba({})"
   ]
  },
  {
   "cell_type": "code",
   "execution_count": null,
   "metadata": {},
   "outputs": [],
   "source": [
    "# The list above is a list of nodes, or states. How do you get the \n",
    "# name of the nodes?   \n",
    "#  This is an ordered list of the node names -- the name used to construct the node\n",
    "\n",
    "list(map(lambda s: s.name, model.states))"
   ]
  },
  {
   "cell_type": "code",
   "execution_count": null,
   "metadata": {},
   "outputs": [],
   "source": [
    "# For example, this is the distribution of values over the monty variable, given no \n",
    "# evidence\n",
    "model.predict_proba({})[2].parameters[0]"
   ]
  },
  {
   "cell_type": "code",
   "execution_count": null,
   "metadata": {},
   "outputs": [],
   "source": [
    "# Helper functions to get a distribution based on node name and evidence\n",
    "\n",
    "def probDist(nodeName, model, evidence):\n",
    "    def nodeIndex(model, nodeName):\n",
    "        return list(map(lambda s: s.name, model.states)).index(nodeName)\n",
    "    return model.predict_proba(evidence)[nodeIndex(model, nodeName)].parameters[0]"
   ]
  },
  {
   "cell_type": "code",
   "execution_count": null,
   "metadata": {},
   "outputs": [],
   "source": [
    "# Easier way to get at Monty distribution\n",
    "probDist('monty', model, {})"
   ]
  },
  {
   "cell_type": "code",
   "execution_count": null,
   "metadata": {},
   "outputs": [],
   "source": [
    "# Add evidence -- does choosing a door change belief about where the prize is?\n",
    "probDist('prize', model, {'guest': 'A'})"
   ]
  },
  {
   "cell_type": "code",
   "execution_count": null,
   "metadata": {},
   "outputs": [],
   "source": [
    "##  Suppose the guest chooses A, and Monty chooses B.\n",
    "##  Monty gives the guest to switch from A to C.  Should she?\n",
    "\n",
    "probDist('prize', model, {\"guest\": 'A', \"monty\": 'B'})"
   ]
  },
  {
   "cell_type": "markdown",
   "metadata": {},
   "source": [
    "----------------------------------------------------------------\n",
    "\n",
    "### Second Example:  Typical Noisy Sensor\n",
    "\n",
    "* The variable **water** is the amount of water in my basement.  This variable takes values **{none, some, lots}**\n",
    "* I have a water detector **waterDetector** that is either **on** or **off**\n",
    "  * It is supposed to be **on** if and only if **water** is either **some** or **lots**\n",
    "  * However, it sometimes fails to alert (is **off** when **water** is either **some** or **lots**)\n",
    "  * It also sometimes false alarms (is **on** when **water** is **none**)\n",
    "\n",
    "This is what I discovered by observing the basement over time\n",
    "* On any given day, the probability of **water** is **(.98, .015, .005)** for values **(none, some, lots)**\n",
    "* The likelihood of a false alarm **P(waterDetector = on | water = none) = 0.01**\n",
    "* The likelihood of the sensor missing water depends on the water level: \n",
    "  * **P(waterDetector = off | water = some) = .10**;   \n",
    "  * **P(waterDetector = off | water = lots) = .005**\n",
    "\n",
    "\n",
    "Network has 2 nodes, **water** and **waterDetector**, and **water** is the parent of **waterDetector**"
   ]
  },
  {
   "cell_type": "code",
   "execution_count": null,
   "metadata": {},
   "outputs": [],
   "source": [
    "from pomegranate import *\n",
    "waterdist = DiscreteDistribution({'none': .98, 'some': .015, 'lots': .005})\n",
    "waterdetectordist = ConditionalProbabilityTable(\n",
    "        [['none', 'off', 0.99],\n",
    "         ['none', 'on', 0.01],\n",
    "         \n",
    "         ['some', 'off', 0.10],\n",
    "         ['some', 'on', 0.90],\n",
    "         \n",
    "         ['lots', 'off', 0.005],\n",
    "         ['lots', 'on', 0.995]\n",
    "        ], [waterdist])\n",
    "\n",
    "water = Node(waterdist, name=\"water\")\n",
    "waterdist = Node(waterdetectordist, name=\"waterdetector\")\n",
    "\n",
    "wmodel = BayesianNetwork(\"Water Sensor\")\n",
    "wmodel.add_states(water, waterdist)\n",
    "wmodel.add_edge(water, waterdist)\n",
    "wmodel.bake()"
   ]
  },
  {
   "cell_type": "markdown",
   "metadata": {},
   "source": [
    "With no further information, what is the likelihood that there is some or lots of water in my basement"
   ]
  },
  {
   "cell_type": "code",
   "execution_count": null,
   "metadata": {},
   "outputs": [],
   "source": [
    "# Compute probabilities on the basis of no additional evidence.  Its output is a list of \n",
    "# distributions over node values, in the order they were added -- in our case, water is at [0] and waterDetector is at [1]\n",
    "\n",
    "d = probDist('water', wmodel, {})\n",
    "d['some'] + d['lots']"
   ]
  },
  {
   "cell_type": "markdown",
   "metadata": {},
   "source": [
    "With no evidence, what is the likelihood that my water detector is displaying ON"
   ]
  },
  {
   "cell_type": "code",
   "execution_count": null,
   "metadata": {},
   "outputs": [],
   "source": [
    "probDist('waterdetector', wmodel, {})['on']"
   ]
  },
  {
   "cell_type": "markdown",
   "metadata": {},
   "source": [
    "Suppose I learn that the water detector is **on**.  How does that affect my beliefs over the basement water level"
   ]
  },
  {
   "cell_type": "code",
   "execution_count": null,
   "metadata": {},
   "outputs": [],
   "source": [
    "d = probDist('water', wmodel, {})\n",
    "d2 = probDist('water', wmodel, {'waterdetector': 'on'})\n",
    "\n",
    "print(f\"Distribution with no evidence: {d}\")\n",
    "print(f\"Distribution with water detector on is {d2}\")\n",
    "\n",
    "print(\"Change in belief that water level is NONE when water detector is ON: {:.0%}\".format((d2['none'] - d['none'])/d['none']))\n",
    "print(\"Change in belief that water level is SOME when water detector is ON: {:.0%}\".format((d2['some'] - d['some'])/d['some']))\n",
    "print(\"Change in belief that water level is LOTS when water detector is ON: {:.0%}\".format((d2['lots'] - d['lots'])/d['lots']))"
   ]
  },
  {
   "cell_type": "markdown",
   "metadata": {},
   "source": [
    "Suppose instead I go to the basement and observe that there is no water in the basement.  \n",
    "How does that affect my belief as to whether or not the water detector is on?"
   ]
  },
  {
   "cell_type": "code",
   "execution_count": null,
   "metadata": {},
   "outputs": [],
   "source": [
    "d = probDist('waterdetector', wmodel, {})\n",
    "d2 = probDist('waterdetector', wmodel, {'water': 'none'})\n",
    "\n",
    "print(f\"Distribution with no evidence: {d}\")\n",
    "print(f\"Distribution with water detector on is {d2}\")\n",
    "print(\"Change in belief that water detector is ON when water NONE: {:.0%}\".format((d2['on'] - d['on'])/d['on']))\n",
    "print(\"Change in belief that water level is OFF when water is NONE: {:.0%}\".format((d2['off'] - d['off'])/d['off']))\n"
   ]
  },
  {
   "cell_type": "markdown",
   "metadata": {},
   "source": [
    "Suppose I have no information about the water level and the detector.  What is the probability that there is either some or lots of water, and that the water detector is off?"
   ]
  },
  {
   "cell_type": "code",
   "execution_count": null,
   "metadata": {},
   "outputs": [],
   "source": [
    "d = probDist('water', wmodel, {})\n",
    "d2 = probDist('waterdetector', wmodel, {})\n",
    "probwater = d['some'] + d['lots']\n",
    "probdetectoroff = d2['off']"
   ]
  },
  {
   "cell_type": "code",
   "execution_count": null,
   "metadata": {},
   "outputs": [],
   "source": [
    "print(\"Prob some or lots of water: {:.0%}\".format(probwater))\n",
    "print(\"Prob water detector off: {:.0%}\".format(probdetectoroff))\n",
    "print(\"Prob some or lots of water AND water detector OFF: {:.0%}\".format(probwater*probdetectoroff))"
   ]
  },
  {
   "cell_type": "code",
   "execution_count": null,
   "metadata": {},
   "outputs": [],
   "source": []
  }
 ],
 "metadata": {
  "kernelspec": {
   "display_name": "Python 3 (ipykernel)",
   "language": "python",
   "name": "python3"
  },
  "language_info": {
   "codemirror_mode": {
    "name": "ipython",
    "version": 3
   },
   "file_extension": ".py",
   "mimetype": "text/x-python",
   "name": "python",
   "nbconvert_exporter": "python",
   "pygments_lexer": "ipython3",
   "version": "3.9.12"
  }
 },
 "nbformat": 4,
 "nbformat_minor": 2
}
