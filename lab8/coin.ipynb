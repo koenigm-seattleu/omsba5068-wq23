{
 "cells": [
  {
   "cell_type": "markdown",
   "metadata": {},
   "source": [
    "####  Two Different Kinds of Coin Flip\n",
    "\n",
    "The first scenario was covered in class:  we have two coins, **C1** and **C2** that can flip either *heads* or *tails*.\n",
    "We know that either both coins are fair, or they both are not fair.  If a coin is fair, it flips heads 50\\% of the time and tails 50\\% of the time.  If a coin is not fair, it flips heads 90\\% of the time and tails 10\\% of the time.  Initially you have no information about whether or not the coins are fair.\n",
    "\n",
    "Construct the network modeling this scenario, and use it to determine the probability that both coins will flip *heads* if both are flipped exactly once.\n"
   ]
  },
  {
   "cell_type": "code",
   "execution_count": null,
   "metadata": {},
   "outputs": [],
   "source": [
    "# Your network construction code here"
   ]
  },
  {
   "cell_type": "code",
   "execution_count": null,
   "metadata": {},
   "outputs": [],
   "source": [
    "# Compute and print the probability that both coins will flip heads"
   ]
  },
  {
   "cell_type": "markdown",
   "metadata": {},
   "source": [
    "The definition of unconditional indepencence says that C3 is independent of C4 if $P(C3 | C4) = P(C3)$.\n",
    "Is it the case that in scenario, C3 and C4 are unconditionally independent?  Why or why not?"
   ]
  },
  {
   "cell_type": "markdown",
   "metadata": {},
   "source": [
    "<span style=\"color:red\">Your answer here -- you can add a combination of code and markdown cells to support your answer.\n",
    "</span>"
   ]
  },
  {
   "cell_type": "markdown",
   "metadata": {},
   "source": [
    "One of the properties of conditional independence is that if C1 and C2 are independent conditioned on F, then if you know the state of F, knowledge about the state of C1 does not change the probability of C2.  That is,\n",
    "\n",
    "$P(C1 | F, C2) = P(C1 | F)$ \n",
    "\n",
    "and \n",
    "\n",
    "$P(C1 | \\neg F, C2) = P(C1 | \\neg F)$\n",
    "\n",
    "Recall that by definition, in a Bayesian network, children of a common parent are independent conditioned on their parent.  Demonstrate that his property holds in the Coins network you just built."
   ]
  },
  {
   "cell_type": "markdown",
   "metadata": {},
   "source": [
    "<span style=\"color:red\">Your answer here -- you can add a combination of code and markdown cells to support your answer.\n",
    "</span>"
   ]
  },
  {
   "cell_type": "markdown",
   "metadata": {},
   "source": [
    "#### Second scenario\n",
    "\n",
    "Now consider a different scenario:  a child node with two parents.\n",
    "\n",
    "* C3 is a coin that flips *heads* 75\\% of the time and *tails* 25\\% of the time\n",
    "* C4 is a coin that flips *heads* 35\\% of the time and *tails* 65\\% of the time\n",
    "* C3 and C4 are independent in the sense that no \"bias\" machine that produced them both\n",
    "* C3 and C4 are both flipped a single time\n",
    "* L is a light that is supposed go *on* if and only if both C3 and C4 flip heads\n",
    "* But L sometimes malfunctions\n",
    "   * .1\\% of the time L does not go *on* even though both C3 and C4 flipped heads\n",
    "   * .01\\% of the time L goes on even though C3 and C4 did not both flip heads"
   ]
  },
  {
   "cell_type": "code",
   "execution_count": null,
   "metadata": {},
   "outputs": [],
   "source": [
    "#  Your code here -- build the network representing this new coin situation"
   ]
  },
  {
   "cell_type": "code",
   "execution_count": null,
   "metadata": {},
   "outputs": [],
   "source": [
    "# Given no other information, what's the probability that the light will go on?\n",
    "# Your code here to compute and print the probability"
   ]
  },
  {
   "cell_type": "code",
   "execution_count": null,
   "metadata": {},
   "outputs": [],
   "source": [
    "# Suppose you observe the light on, what is the probability that coin4 flipped heads?\n",
    "# Your code here to compute and print the probability\n"
   ]
  },
  {
   "cell_type": "code",
   "execution_count": null,
   "metadata": {},
   "outputs": [],
   "source": [
    "# What is the prior probability that coin4 flips heads? Compute and print the probability.\n"
   ]
  },
  {
   "cell_type": "code",
   "execution_count": null,
   "metadata": {},
   "outputs": [],
   "source": [
    "# Now you observe that coin3 flipped heads;  does that change your believe that coin4 flipped heads?\n",
    "#Your code here.  You can add a combination of code and markdown cells to support your answer."
   ]
  },
  {
   "cell_type": "markdown",
   "metadata": {},
   "source": [
    "By the definition of independence, random variable C3 is (unconditionally) independent of C4 if \n",
    "$P(C3 | C4) = P(C3)$ \n",
    "\n",
    "Is it true then that C3 and C4 are unconditionally independent even though they have a common child?\n",
    "How does this contrast with the situation in the first model where C1 and C2 were not "
   ]
  },
  {
   "cell_type": "markdown",
   "metadata": {},
   "source": [
    "<span style=\"color:red\">Your answer here -- you can add a combination of code and markdown cells to support your answer.\n",
    "</span>"
   ]
  },
  {
   "cell_type": "markdown",
   "metadata": {},
   "source": [
    "Return to the definition of conditional independence above, where C1 and C2 were independent conditioned on their common parent.  Are C3 and C4 independent conditioned on their common child?"
   ]
  },
  {
   "cell_type": "markdown",
   "metadata": {},
   "source": [
    "<span style=\"color:red\">Your answer here -- you can add a combination of code and markdown cells to support your answer.\n",
    "</span>"
   ]
  },
  {
   "cell_type": "markdown",
   "metadata": {},
   "source": [
    "Summarize the different in independence assumptions between the two scenarios\n",
    "* In the first scenario there were two children with a common parent\n",
    "* In the second scenario there were two parents with a common child"
   ]
  },
  {
   "cell_type": "markdown",
   "metadata": {},
   "source": [
    "<span style=\"color:red\">Your answer here -- you can add a combination of code and markdown cells to support your answer.\n",
    "</span>"
   ]
  }
 ],
 "metadata": {
  "kernelspec": {
   "display_name": "Python 3 (ipykernel)",
   "language": "python",
   "name": "python3"
  },
  "language_info": {
   "codemirror_mode": {
    "name": "ipython",
    "version": 3
   },
   "file_extension": ".py",
   "mimetype": "text/x-python",
   "name": "python",
   "nbconvert_exporter": "python",
   "pygments_lexer": "ipython3",
   "version": "3.9.12"
  }
 },
 "nbformat": 4,
 "nbformat_minor": 2
}
